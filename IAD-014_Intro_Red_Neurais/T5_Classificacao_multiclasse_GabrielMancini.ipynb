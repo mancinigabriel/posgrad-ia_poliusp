{
  "cells": [
    {
      "cell_type": "markdown",
      "metadata": {
        "id": "kwvQG8578J54"
      },
      "source": [
        "# Trabalho #5 - Classificação de Múltiplas Classes + Optuna\n"
      ]
    },
    {
      "cell_type": "markdown",
      "metadata": {
        "id": "tAzVfdoT8J56"
      },
      "source": [
        "## Coloque aqui o seu nome\n",
        "\n",
        "Nome: Gabriel Silvestre Mancini\n"
      ]
    },
    {
      "cell_type": "code",
      "execution_count": 62,
      "metadata": {
        "id": "Af3XV_za8J5-"
      },
      "outputs": [],
      "source": [
        "import numpy as np\n",
        "import matplotlib.pyplot as plt\n",
        "import tensorflow as tf\n",
        "import optuna\n",
        "from tensorflow import keras\n",
        "from tensorflow.keras.optimizers import Adam\n",
        "from tensorflow.keras.callbacks import EarlyStopping\n",
        "\n",
        "%matplotlib inline"
      ]
    },
    {
      "cell_type": "code",
      "execution_count": 19,
      "metadata": {
        "colab": {
          "base_uri": "https://localhost:8080/"
        },
        "id": "7NR_w_KN8J6L",
        "outputId": "0488ca22-058e-4f17-bb99-85542825a0fb"
      },
      "outputs": [
        {
          "output_type": "stream",
          "name": "stdout",
          "text": [
            "X_train shape: (60000, 28, 28) y_train shape: (60000,)\n"
          ]
        }
      ],
      "source": [
        "# Importa bancos de dados do Keras\n",
        "from tensorflow.keras.datasets import fashion_mnist\n",
        "\n",
        "# Carrega dados da Fashion-MNIST em tenores\n",
        "(X_train_orig, Y_train_orig), (xx, yy) = fashion_mnist.load_data()\n",
        "\n",
        "classes = ['camiseta','calça','pulover','vestido','casaco','sandália','camisa','tênis','bolsa','bota']\n",
        "\n",
        "print(\"X_train shape:\", X_train_orig.shape, \"y_train shape:\", Y_train_orig.shape)"
      ]
    },
    {
      "cell_type": "code",
      "execution_count": 20,
      "metadata": {
        "colab": {
          "base_uri": "https://localhost:8080/",
          "height": 447
        },
        "id": "Ju5EEVSv8J6e",
        "outputId": "5763833b-d62a-496d-ad97-0016470563b5"
      },
      "outputs": [
        {
          "output_type": "stream",
          "name": "stdout",
          "text": [
            "y = 6\n"
          ]
        },
        {
          "output_type": "display_data",
          "data": {
            "text/plain": [
              "<Figure size 640x480 with 1 Axes>"
            ],
            "image/png": "[encoded data removed]"
          },
          "metadata": {}
        }
      ],
      "source": [
        "# Exemplo de uma imagem\n",
        "index = 55\n",
        "plt.imshow(X_train_orig[index], cmap='gray')\n",
        "print (\"y = \" + str(np.squeeze(Y_train_orig[index])))"
      ]
    },
    {
      "cell_type": "code",
      "execution_count": 21,
      "metadata": {
        "colab": {
          "base_uri": "https://localhost:8080/"
        },
        "id": "fxcHnVdk8J6w",
        "outputId": "5c1203df-0387-4efb-a4de-4066a5403e54"
      },
      "outputs": [
        {
          "output_type": "stream",
          "name": "stdout",
          "text": [
            "Dimensão do tensor de dados de entrada de treinamento = (10000, 28, 28)\n",
            "Dimensão do tensor de dados de entrada de validação = (2000, 28, 28)\n",
            "Dimensão do tensor de dados de saída de treinamento = (10000, 1)\n",
            "Dimensão do tensor de dados de saída de validação = (2000, 1)\n",
            "Dimensão do tensor de dados de saída de test = (2000, 1)\n"
          ]
        }
      ],
      "source": [
        "# PARA VOCÊ FAZER: Divisão dos dados de treinamento em dados de treinamento e validação\n",
        "\n",
        "# Gera vetor de indíces (números inteiros) de 0 a 59.999 com ordenamento aletório\n",
        "ind = np.random.randint(60000, size=60000)\n",
        "\n",
        "# Dados de entrada\n",
        "### COMECE AQUI ### (≈ 3 linhas)\n",
        "X_train = X_train_orig[ind[:10000]]\n",
        "X_val = X_train_orig[ind[10000:12000]]\n",
        "X_test = X_train_orig[ind[12000:14000]]\n",
        "### TERMINE AQUI ###\n",
        "\n",
        "# Dados de saída\n",
        "### COMECE AQUI ### (≈ 3 linhas)\n",
        "Y_train = Y_train_orig[ind[:10000]]\n",
        "Y_val = Y_train_orig[ind[10000:12000]]\n",
        "Y_test = Y_train_orig[ind[12000:14000]]\n",
        "### TERMINE AQUI ###\n",
        "\n",
        "# Acerta dimensões dos vetores de saída\n",
        "Y_train = Y_train.reshape((Y_train.shape[0], 1))\n",
        "Y_val = Y_val.reshape((Y_val.shape[0], 1))\n",
        "Y_test = Y_test.reshape((Y_test.shape[0], 1))\n",
        "\n",
        "print(\"Dimensão do tensor de dados de entrada de treinamento =\", X_train.shape)\n",
        "print(\"Dimensão do tensor de dados de entrada de validação =\", X_val.shape)\n",
        "print(\"Dimensão do tensor de dados de saída de treinamento =\", Y_train.shape)\n",
        "print(\"Dimensão do tensor de dados de saída de validação =\", Y_val.shape)\n",
        "print(\"Dimensão do tensor de dados de saída de test =\", Y_test.shape)"
      ]
    },
    {
      "cell_type": "code",
      "execution_count": 22,
      "metadata": {
        "colab": {
          "base_uri": "https://localhost:8080/"
        },
        "id": "ni-u71wH8J66",
        "outputId": "a329a980-bb6c-4486-ae43-4435e50ce528"
      },
      "outputs": [
        {
          "output_type": "stream",
          "name": "stdout",
          "text": [
            "Numero de colunas e linhas das imagens de entrada= 28\n",
            "Dimensão dos dados de entrada do conjunto de treinamento:  (10000, 784)\n",
            "Dimensão dos dados de entrada do conjunto de validação:  (2000, 784)\n",
            "Dimensão dos dados de entrada do conjunto de teste:  (2000, 784)\n",
            "Alguns elementos da primeira imagem de treinamento =  [0.29803923 0.31764707 0.2        0.0627451  0.09803922]\n",
            "Alguns elementos da primeira imagem de validação =  [0. 0. 0. 0. 0.]\n",
            "Alguns elementos da primeira imagem de teste =  [0.03529412 0.5803922  0.65882355 0.60784316 0.6431373 ]\n"
          ]
        }
      ],
      "source": [
        "# PARA VOCÊ FAZER: Normalização dos dados de entrada\n",
        "\n",
        "# Guarda dimensão das imagens\n",
        "num_px = X_train.shape[1]\n",
        "print(\"Numero de colunas e linhas das imagens de entrada=\", num_px)\n",
        "\n",
        "# Transformação dos dados em números reais\n",
        "### Comece AQUI ### (≈ 3 linhas)\n",
        "X_train_float = X_train.astype('float32')/255.0\n",
        "X_val_float = X_val.astype('float32')/255.0\n",
        "X_test_float = X_test.astype('float32')/255.0\n",
        "### TERMINE AQUI ###\n",
        "\n",
        "# Redimensionamento dos dados de entrada\n",
        "### COMECE AQUI ### (≈ 6 linhas)\n",
        "#m_train\n",
        "X_train_flat = X_train_float.reshape(X_train_float.shape[0], num_px * num_px)\n",
        "#m_test\n",
        "X_test_flat = X_test_float.reshape(X_test_float.shape[0], num_px * num_px)\n",
        "#m_val\n",
        "X_val_flat = X_val_float.reshape(X_val_float.shape[0], num_px * num_px)\n",
        "### TERMINE AQUI ###\n",
        "\n",
        "# Dimensão dos tensores de dados\n",
        "print('Dimensão dos dados de entrada do conjunto de treinamento: ', X_train_flat.shape)\n",
        "print('Dimensão dos dados de entrada do conjunto de validação: ', X_test_flat.shape)\n",
        "print('Dimensão dos dados de entrada do conjunto de teste: ', X_test_flat.shape)\n",
        "\n",
        "# Para verificar se os resultados estão corretos\n",
        "print(\"Alguns elementos da primeira imagem de treinamento = \", X_train_flat[14,10:15])\n",
        "print(\"Alguns elementos da primeira imagem de validação = \", X_val_flat[14,10:15])\n",
        "print(\"Alguns elementos da primeira imagem de teste = \", X_test_flat[14,10:15])"
      ]
    },
    {
      "cell_type": "code",
      "execution_count": 24,
      "metadata": {
        "colab": {
          "base_uri": "https://localhost:8080/",
          "height": 465
        },
        "id": "QNwaPRf98J7S",
        "outputId": "8315cccb-4720-4e67-ddc9-e0563551d133"
      },
      "outputs": [
        {
          "output_type": "stream",
          "name": "stdout",
          "text": [
            "Classe numérica:  [8] , Vetor de saída correspondentes:  [0. 0. 0. 0. 0. 0. 0. 0. 1. 0.]\n"
          ]
        },
        {
          "output_type": "execute_result",
          "data": {
            "text/plain": [
              "<matplotlib.image.AxesImage at 0x7fc11db46500>"
            ]
          },
          "metadata": {},
          "execution_count": 24
        },
        {
          "output_type": "display_data",
          "data": {
            "text/plain": [
              "<Figure size 640x480 with 1 Axes>"
            ],
            "image/png": "[encoded data removed]"
          },
          "metadata": {}
        }
      ],
      "source": [
        "# Exemplo de saída\n",
        "index = 100\n",
        "print(\"Classe numérica: \", Y_train[index], \", Vetor de saída correspondentes: \", Y_train_hot[index])\n",
        "plt.imshow(X_train[index], cmap='gray', vmin=0, vmax=255)"
      ]
    },
    {
      "cell_type": "code",
      "source": [
        "# prompt: create a function that generates and trains a nn model based on a set of hyperparameters\n",
        "\n",
        "def create_and_train_model(optimizer, loss_fn, metrics, epochs, layers):\n",
        "  \"\"\"\n",
        "  Generates and trains a neural network model based on given hyperparameters.\n",
        "\n",
        "  Args:\n",
        "    optimizer: The optimizer to use for training.\n",
        "    loss_fn: The loss function to use for training.\n",
        "    metrics: A list of metrics to evaluate the model.\n",
        "    epochs: The number of epochs to train the model.\n",
        "    layers: A list of tuples representing the layers in the model.\n",
        "             Each tuple contains (number of units, activation function).\n",
        "\n",
        "  Returns:\n",
        "    The trained model.\n",
        "  \"\"\"\n",
        "  model = keras.Sequential()\n",
        "  # Add input layer\n",
        "  model.add(keras.layers.InputLayer(input_shape=(784,)))\n",
        "  # Add hidden layers\n",
        "  for units, activation in layers:\n",
        "    model.add(keras.layers.Dense(units, activation=activation))\n",
        "    model.add(keras.layers.Dropout(0.5))\n",
        "\n",
        "  # Add output layer\n",
        "  model.add(keras.layers.Dense(10, activation='softmax'))\n",
        "\n",
        "  model.compile(optimizer=optimizer,\n",
        "                loss=loss_fn,\n",
        "                metrics=metrics)\n",
        "\n",
        "  # Definindo o Early Stopping\n",
        "  callbacks = []\n",
        "  early_stopping = EarlyStopping(monitor='val_loss', patience=3, restore_best_weights=True)\n",
        "  callbacks.append(early_stopping)\n",
        "\n",
        "  model.fit(X_train_flat, Y_train_hot, epochs=epochs, callbacks=callbacks, verbose=0)\n",
        "  return model"
      ],
      "metadata": {
        "id": "w4tXVFpI0ivT"
      },
      "execution_count": 75,
      "outputs": []
    },
    {
      "cell_type": "code",
      "source": [
        "def objective(trial):\n",
        "  # Define the search space for hyperparameters\n",
        "  optimizer_name = trial.suggest_categorical(\"optimizer\", [\"adam\", \"sgd\"])\n",
        "  learning_rate = trial.suggest_float(\"learning_rate\", 1e-5, 1e-1, log=True)\n",
        "  if optimizer_name == \"adam\":\n",
        "    optimizer = keras.optimizers.Adam(learning_rate=learning_rate)\n",
        "  else:\n",
        "    optimizer = keras.optimizers.SGD(learning_rate=learning_rate)\n",
        "\n",
        "  loss_fn = \"categorical_crossentropy\"\n",
        "  metrics = [\"accuracy\"]\n",
        "  epochs = trial.suggest_int(\"epochs\", 5, 30)\n",
        "\n",
        "  # Define the search space for the number of layers and units per layer\n",
        "  n_layers = trial.suggest_int(\"n_layers\", 1, 5)\n",
        "  layers = []\n",
        "  for i in range(n_layers):\n",
        "    units = trial.suggest_int(f\"units_{i}\", 32, 128)\n",
        "    activation = trial.suggest_categorical(f\"activation_{i}\", [\"relu\", \"sigmoid\"])\n",
        "    layers.append((units, activation))\n",
        "\n",
        "  print(f\"Trial hyperparameters: optimizer={optimizer_name}, learning_rate={learning_rate}, epochs={epochs}, layers={layers}\")\n",
        "\n",
        "  # Create and train the model\n",
        "  model = create_and_train_model(optimizer, loss_fn, metrics, epochs, layers)\n",
        "\n",
        "  # Evaluate the model\n",
        "  _, accuracy = model.evaluate(X_test_flat, Y_test_hot, verbose=0)\n",
        "  return accuracy\n"
      ],
      "metadata": {
        "id": "M-MEBRnJR3Fi"
      },
      "execution_count": 78,
      "outputs": []
    },
    {
      "cell_type": "code",
      "source": [
        "# Criando o estudo e rodando a otimização\n",
        "study = optuna.create_study(direction='maximize')  # Maximizar a acurácia\n",
        "study.optimize(objective, n_trials=50)  # Executar 50 tentativas\n",
        "\n",
        "# Melhor conjunto de hiperparâmetros\n",
        "print(\"Melhores hiperparâmetros:\", study.best_params)\n",
        "print(f\"Melhor acurácia:{study.best_value}\")"
      ],
      "metadata": {
        "colab": {
          "base_uri": "https://localhost:8080/"
        },
        "id": "ukkpEUBcSJW3",
        "outputId": "9ff7514f-431a-4fbd-9d14-801a7c4fa7b6"
      },
      "execution_count": 79,
      "outputs": [
        {
          "output_type": "stream",
          "name": "stderr",
          "text": [
            "[I 2024-10-04 01:01:48,268] A new study created in memory with name: no-name-f234ed9b-292b-4c7e-b1b5-fc66a6cdcbe8\n"
          ]
        },
        {
          "output_type": "stream",
          "name": "stdout",
          "text": [
            "Trial hyperparameters: optimizer=sgd, learning_rate=0.011596241103150683, epochs=6, layers=[(48, 'relu'), (61, 'sigmoid'), (105, 'relu')]\n"
          ]
        },
        {
          "output_type": "stream",
          "name": "stderr",
          "text": [
            "[I 2024-10-04 01:01:58,176] Trial 0 finished with value: 0.5534999966621399 and parameters: {'optimizer': 'sgd', 'learning_rate': 0.011596241103150683, 'epochs': 6, 'n_layers': 3, 'units_0': 48, 'activation_0': 'relu', 'units_1': 61, 'activation_1': 'sigmoid', 'units_2': 105, 'activation_2': 'relu'}. Best is trial 0 with value: 0.5534999966621399.\n"
          ]
        },
        {
          "output_type": "stream",
          "name": "stdout",
          "text": [
            "Trial hyperparameters: optimizer=adam, learning_rate=0.00012530197534100262, epochs=18, layers=[(101, 'sigmoid'), (100, 'sigmoid'), (69, 'sigmoid')]\n"
          ]
        },
        {
          "output_type": "stream",
          "name": "stderr",
          "text": [
            "[I 2024-10-04 01:02:23,331] Trial 1 finished with value: 0.6010000109672546 and parameters: {'optimizer': 'adam', 'learning_rate': 0.00012530197534100262, 'epochs': 18, 'n_layers': 3, 'units_0': 101, 'activation_0': 'sigmoid', 'units_1': 100, 'activation_1': 'sigmoid', 'units_2': 69, 'activation_2': 'sigmoid'}. Best is trial 1 with value: 0.6010000109672546.\n"
          ]
        },
        {
          "output_type": "stream",
          "name": "stdout",
          "text": [
            "Trial hyperparameters: optimizer=sgd, learning_rate=3.8710827642131336e-05, epochs=16, layers=[(41, 'relu'), (54, 'sigmoid'), (64, 'sigmoid'), (111, 'relu'), (34, 'relu')]\n"
          ]
        },
        {
          "output_type": "stream",
          "name": "stderr",
          "text": [
            "[I 2024-10-04 01:02:41,806] Trial 2 finished with value: 0.11500000208616257 and parameters: {'optimizer': 'sgd', 'learning_rate': 3.8710827642131336e-05, 'epochs': 16, 'n_layers': 5, 'units_0': 41, 'activation_0': 'relu', 'units_1': 54, 'activation_1': 'sigmoid', 'units_2': 64, 'activation_2': 'sigmoid', 'units_3': 111, 'activation_3': 'relu', 'units_4': 34, 'activation_4': 'relu'}. Best is trial 1 with value: 0.6010000109672546.\n"
          ]
        },
        {
          "output_type": "stream",
          "name": "stdout",
          "text": [
            "Trial hyperparameters: optimizer=adam, learning_rate=8.30607514180888e-05, epochs=26, layers=[(44, 'sigmoid')]\n"
          ]
        },
        {
          "output_type": "stream",
          "name": "stderr",
          "text": [
            "[I 2024-10-04 01:03:00,686] Trial 3 finished with value: 0.7894999980926514 and parameters: {'optimizer': 'adam', 'learning_rate': 8.30607514180888e-05, 'epochs': 26, 'n_layers': 1, 'units_0': 44, 'activation_0': 'sigmoid'}. Best is trial 3 with value: 0.7894999980926514.\n"
          ]
        },
        {
          "output_type": "stream",
          "name": "stdout",
          "text": [
            "Trial hyperparameters: optimizer=sgd, learning_rate=0.002438268992158287, epochs=25, layers=[(117, 'relu'), (51, 'relu')]\n"
          ]
        },
        {
          "output_type": "stream",
          "name": "stderr",
          "text": [
            "[I 2024-10-04 01:03:21,729] Trial 4 finished with value: 0.7680000066757202 and parameters: {'optimizer': 'sgd', 'learning_rate': 0.002438268992158287, 'epochs': 25, 'n_layers': 2, 'units_0': 117, 'activation_0': 'relu', 'units_1': 51, 'activation_1': 'relu'}. Best is trial 3 with value: 0.7894999980926514.\n"
          ]
        },
        {
          "output_type": "stream",
          "name": "stdout",
          "text": [
            "Trial hyperparameters: optimizer=adam, learning_rate=0.009905950216946915, epochs=12, layers=[(85, 'relu'), (70, 'relu'), (118, 'relu')]\n"
          ]
        },
        {
          "output_type": "stream",
          "name": "stderr",
          "text": [
            "[I 2024-10-04 01:03:40,375] Trial 5 finished with value: 0.4259999990463257 and parameters: {'optimizer': 'adam', 'learning_rate': 0.009905950216946915, 'epochs': 12, 'n_layers': 3, 'units_0': 85, 'activation_0': 'relu', 'units_1': 70, 'activation_1': 'relu', 'units_2': 118, 'activation_2': 'relu'}. Best is trial 3 with value: 0.7894999980926514.\n"
          ]
        },
        {
          "output_type": "stream",
          "name": "stdout",
          "text": [
            "Trial hyperparameters: optimizer=sgd, learning_rate=6.357322916522396e-05, epochs=16, layers=[(46, 'sigmoid'), (73, 'sigmoid'), (82, 'relu')]\n"
          ]
        },
        {
          "output_type": "stream",
          "name": "stderr",
          "text": [
            "[I 2024-10-04 01:03:55,835] Trial 6 finished with value: 0.09149999916553497 and parameters: {'optimizer': 'sgd', 'learning_rate': 6.357322916522396e-05, 'epochs': 16, 'n_layers': 3, 'units_0': 46, 'activation_0': 'sigmoid', 'units_1': 73, 'activation_1': 'sigmoid', 'units_2': 82, 'activation_2': 'relu'}. Best is trial 3 with value: 0.7894999980926514.\n"
          ]
        },
        {
          "output_type": "stream",
          "name": "stdout",
          "text": [
            "Trial hyperparameters: optimizer=adam, learning_rate=1.2263638106340946e-05, epochs=14, layers=[(97, 'relu'), (91, 'sigmoid'), (56, 'relu'), (54, 'sigmoid')]\n"
          ]
        },
        {
          "output_type": "stream",
          "name": "stderr",
          "text": [
            "[I 2024-10-04 01:04:16,364] Trial 7 finished with value: 0.3725000023841858 and parameters: {'optimizer': 'adam', 'learning_rate': 1.2263638106340946e-05, 'epochs': 14, 'n_layers': 4, 'units_0': 97, 'activation_0': 'relu', 'units_1': 91, 'activation_1': 'sigmoid', 'units_2': 56, 'activation_2': 'relu', 'units_3': 54, 'activation_3': 'sigmoid'}. Best is trial 3 with value: 0.7894999980926514.\n"
          ]
        },
        {
          "output_type": "stream",
          "name": "stdout",
          "text": [
            "Trial hyperparameters: optimizer=sgd, learning_rate=0.01211267124196693, epochs=22, layers=[(87, 'sigmoid'), (54, 'relu'), (46, 'sigmoid'), (89, 'sigmoid'), (119, 'relu')]\n"
          ]
        },
        {
          "output_type": "stream",
          "name": "stderr",
          "text": [
            "[I 2024-10-04 01:04:42,470] Trial 8 finished with value: 0.10350000113248825 and parameters: {'optimizer': 'sgd', 'learning_rate': 0.01211267124196693, 'epochs': 22, 'n_layers': 5, 'units_0': 87, 'activation_0': 'sigmoid', 'units_1': 54, 'activation_1': 'relu', 'units_2': 46, 'activation_2': 'sigmoid', 'units_3': 89, 'activation_3': 'sigmoid', 'units_4': 119, 'activation_4': 'relu'}. Best is trial 3 with value: 0.7894999980926514.\n"
          ]
        },
        {
          "output_type": "stream",
          "name": "stdout",
          "text": [
            "Trial hyperparameters: optimizer=sgd, learning_rate=6.729571745644979e-05, epochs=5, layers=[(73, 'sigmoid')]\n"
          ]
        },
        {
          "output_type": "stream",
          "name": "stderr",
          "text": [
            "[I 2024-10-04 01:04:48,772] Trial 9 finished with value: 0.09749999642372131 and parameters: {'optimizer': 'sgd', 'learning_rate': 6.729571745644979e-05, 'epochs': 5, 'n_layers': 1, 'units_0': 73, 'activation_0': 'sigmoid'}. Best is trial 3 with value: 0.7894999980926514.\n"
          ]
        },
        {
          "output_type": "stream",
          "name": "stdout",
          "text": [
            "Trial hyperparameters: optimizer=adam, learning_rate=0.0005464600121244714, epochs=30, layers=[(66, 'sigmoid')]\n"
          ]
        },
        {
          "output_type": "stream",
          "name": "stderr",
          "text": [
            "[I 2024-10-04 01:05:10,449] Trial 10 finished with value: 0.8454999923706055 and parameters: {'optimizer': 'adam', 'learning_rate': 0.0005464600121244714, 'epochs': 30, 'n_layers': 1, 'units_0': 66, 'activation_0': 'sigmoid'}. Best is trial 10 with value: 0.8454999923706055.\n"
          ]
        },
        {
          "output_type": "stream",
          "name": "stdout",
          "text": [
            "Trial hyperparameters: optimizer=adam, learning_rate=0.0004868758802808869, epochs=30, layers=[(61, 'sigmoid')]\n"
          ]
        },
        {
          "output_type": "stream",
          "name": "stderr",
          "text": [
            "[I 2024-10-04 01:05:31,670] Trial 11 finished with value: 0.8410000205039978 and parameters: {'optimizer': 'adam', 'learning_rate': 0.0004868758802808869, 'epochs': 30, 'n_layers': 1, 'units_0': 61, 'activation_0': 'sigmoid'}. Best is trial 10 with value: 0.8454999923706055.\n"
          ]
        },
        {
          "output_type": "stream",
          "name": "stdout",
          "text": [
            "Trial hyperparameters: optimizer=adam, learning_rate=0.000642620009907291, epochs=30, layers=[(67, 'sigmoid')]\n"
          ]
        },
        {
          "output_type": "stream",
          "name": "stderr",
          "text": [
            "[I 2024-10-04 01:05:55,749] Trial 12 finished with value: 0.8485000133514404 and parameters: {'optimizer': 'adam', 'learning_rate': 0.000642620009907291, 'epochs': 30, 'n_layers': 1, 'units_0': 67, 'activation_0': 'sigmoid'}. Best is trial 12 with value: 0.8485000133514404.\n"
          ]
        },
        {
          "output_type": "stream",
          "name": "stdout",
          "text": [
            "Trial hyperparameters: optimizer=adam, learning_rate=0.0010072297004842144, epochs=30, layers=[(64, 'sigmoid'), (124, 'relu')]\n"
          ]
        },
        {
          "output_type": "stream",
          "name": "stderr",
          "text": [
            "[I 2024-10-04 01:06:19,969] Trial 13 finished with value: 0.8450000286102295 and parameters: {'optimizer': 'adam', 'learning_rate': 0.0010072297004842144, 'epochs': 30, 'n_layers': 2, 'units_0': 64, 'activation_0': 'sigmoid', 'units_1': 124, 'activation_1': 'relu'}. Best is trial 12 with value: 0.8485000133514404.\n"
          ]
        },
        {
          "output_type": "stream",
          "name": "stdout",
          "text": [
            "Trial hyperparameters: optimizer=adam, learning_rate=0.0005052408185573944, epochs=26, layers=[(63, 'sigmoid'), (33, 'relu')]\n"
          ]
        },
        {
          "output_type": "stream",
          "name": "stderr",
          "text": [
            "[I 2024-10-04 01:06:41,093] Trial 14 finished with value: 0.8245000243186951 and parameters: {'optimizer': 'adam', 'learning_rate': 0.0005052408185573944, 'epochs': 26, 'n_layers': 2, 'units_0': 63, 'activation_0': 'sigmoid', 'units_1': 33, 'activation_1': 'relu'}. Best is trial 12 with value: 0.8485000133514404.\n"
          ]
        },
        {
          "output_type": "stream",
          "name": "stdout",
          "text": [
            "Trial hyperparameters: optimizer=adam, learning_rate=0.08144263130370927, epochs=22, layers=[(72, 'sigmoid')]\n"
          ]
        },
        {
          "output_type": "stream",
          "name": "stderr",
          "text": [
            "[I 2024-10-04 01:06:57,345] Trial 15 finished with value: 0.6769999861717224 and parameters: {'optimizer': 'adam', 'learning_rate': 0.08144263130370927, 'epochs': 22, 'n_layers': 1, 'units_0': 72, 'activation_0': 'sigmoid'}. Best is trial 12 with value: 0.8485000133514404.\n"
          ]
        },
        {
          "output_type": "stream",
          "name": "stdout",
          "text": [
            "Trial hyperparameters: optimizer=adam, learning_rate=0.0024469913886628054, epochs=30, layers=[(32, 'sigmoid'), (125, 'relu')]\n"
          ]
        },
        {
          "output_type": "stream",
          "name": "stderr",
          "text": [
            "[I 2024-10-04 01:07:21,659] Trial 16 finished with value: 0.8414999842643738 and parameters: {'optimizer': 'adam', 'learning_rate': 0.0024469913886628054, 'epochs': 30, 'n_layers': 2, 'units_0': 32, 'activation_0': 'sigmoid', 'units_1': 125, 'activation_1': 'relu'}. Best is trial 12 with value: 0.8485000133514404.\n"
          ]
        },
        {
          "output_type": "stream",
          "name": "stdout",
          "text": [
            "Trial hyperparameters: optimizer=adam, learning_rate=0.0002636276901749259, epochs=23, layers=[(56, 'sigmoid')]\n"
          ]
        },
        {
          "output_type": "stream",
          "name": "stderr",
          "text": [
            "[I 2024-10-04 01:07:41,314] Trial 17 finished with value: 0.8184999823570251 and parameters: {'optimizer': 'adam', 'learning_rate': 0.0002636276901749259, 'epochs': 23, 'n_layers': 1, 'units_0': 56, 'activation_0': 'sigmoid'}. Best is trial 12 with value: 0.8485000133514404.\n"
          ]
        },
        {
          "output_type": "stream",
          "name": "stdout",
          "text": [
            "Trial hyperparameters: optimizer=adam, learning_rate=0.0022834832937260055, epochs=27, layers=[(76, 'sigmoid'), (109, 'sigmoid')]\n"
          ]
        },
        {
          "output_type": "stream",
          "name": "stderr",
          "text": [
            "[I 2024-10-04 01:08:04,118] Trial 18 finished with value: 0.8514999747276306 and parameters: {'optimizer': 'adam', 'learning_rate': 0.0022834832937260055, 'epochs': 27, 'n_layers': 2, 'units_0': 76, 'activation_0': 'sigmoid', 'units_1': 109, 'activation_1': 'sigmoid'}. Best is trial 18 with value: 0.8514999747276306.\n"
          ]
        },
        {
          "output_type": "stream",
          "name": "stdout",
          "text": [
            "Trial hyperparameters: optimizer=adam, learning_rate=0.0032077038717423447, epochs=19, layers=[(126, 'sigmoid'), (105, 'sigmoid')]\n"
          ]
        },
        {
          "output_type": "stream",
          "name": "stderr",
          "text": [
            "[I 2024-10-04 01:08:22,196] Trial 19 finished with value: 0.8504999876022339 and parameters: {'optimizer': 'adam', 'learning_rate': 0.0032077038717423447, 'epochs': 19, 'n_layers': 2, 'units_0': 126, 'activation_0': 'sigmoid', 'units_1': 105, 'activation_1': 'sigmoid'}. Best is trial 18 with value: 0.8514999747276306.\n"
          ]
        },
        {
          "output_type": "stream",
          "name": "stdout",
          "text": [
            "Trial hyperparameters: optimizer=adam, learning_rate=0.03399715391385452, epochs=9, layers=[(127, 'sigmoid'), (106, 'sigmoid'), (33, 'sigmoid'), (36, 'relu')]\n"
          ]
        },
        {
          "output_type": "stream",
          "name": "stderr",
          "text": [
            "[I 2024-10-04 01:08:42,781] Trial 20 finished with value: 0.09300000220537186 and parameters: {'optimizer': 'adam', 'learning_rate': 0.03399715391385452, 'epochs': 9, 'n_layers': 4, 'units_0': 127, 'activation_0': 'sigmoid', 'units_1': 106, 'activation_1': 'sigmoid', 'units_2': 33, 'activation_2': 'sigmoid', 'units_3': 36, 'activation_3': 'relu'}. Best is trial 18 with value: 0.8514999747276306.\n"
          ]
        },
        {
          "output_type": "stream",
          "name": "stdout",
          "text": [
            "Trial hyperparameters: optimizer=adam, learning_rate=0.0023089423537502414, epochs=27, layers=[(97, 'sigmoid'), (111, 'sigmoid')]\n"
          ]
        },
        {
          "output_type": "stream",
          "name": "stderr",
          "text": [
            "[I 2024-10-04 01:09:04,971] Trial 21 finished with value: 0.8544999957084656 and parameters: {'optimizer': 'adam', 'learning_rate': 0.0023089423537502414, 'epochs': 27, 'n_layers': 2, 'units_0': 97, 'activation_0': 'sigmoid', 'units_1': 111, 'activation_1': 'sigmoid'}. Best is trial 21 with value: 0.8544999957084656.\n"
          ]
        },
        {
          "output_type": "stream",
          "name": "stdout",
          "text": [
            "Trial hyperparameters: optimizer=adam, learning_rate=0.0020051290506108484, epochs=19, layers=[(108, 'sigmoid'), (111, 'sigmoid')]\n"
          ]
        },
        {
          "output_type": "stream",
          "name": "stderr",
          "text": [
            "[I 2024-10-04 01:09:22,916] Trial 22 finished with value: 0.8420000076293945 and parameters: {'optimizer': 'adam', 'learning_rate': 0.0020051290506108484, 'epochs': 19, 'n_layers': 2, 'units_0': 108, 'activation_0': 'sigmoid', 'units_1': 111, 'activation_1': 'sigmoid'}. Best is trial 21 with value: 0.8544999957084656.\n"
          ]
        },
        {
          "output_type": "stream",
          "name": "stdout",
          "text": [
            "Trial hyperparameters: optimizer=adam, learning_rate=0.005887642081704168, epochs=27, layers=[(121, 'sigmoid'), (89, 'sigmoid')]\n"
          ]
        },
        {
          "output_type": "stream",
          "name": "stderr",
          "text": [
            "[I 2024-10-04 01:09:45,837] Trial 23 finished with value: 0.8374999761581421 and parameters: {'optimizer': 'adam', 'learning_rate': 0.005887642081704168, 'epochs': 27, 'n_layers': 2, 'units_0': 121, 'activation_0': 'sigmoid', 'units_1': 89, 'activation_1': 'sigmoid'}. Best is trial 21 with value: 0.8544999957084656.\n"
          ]
        },
        {
          "output_type": "stream",
          "name": "stdout",
          "text": [
            "Trial hyperparameters: optimizer=adam, learning_rate=0.005404962073584575, epochs=20, layers=[(97, 'sigmoid'), (113, 'sigmoid')]\n"
          ]
        },
        {
          "output_type": "stream",
          "name": "stderr",
          "text": [
            "[I 2024-10-04 01:10:03,147] Trial 24 finished with value: 0.8370000123977661 and parameters: {'optimizer': 'adam', 'learning_rate': 0.005404962073584575, 'epochs': 20, 'n_layers': 2, 'units_0': 97, 'activation_0': 'sigmoid', 'units_1': 113, 'activation_1': 'sigmoid'}. Best is trial 21 with value: 0.8544999957084656.\n"
          ]
        },
        {
          "output_type": "stream",
          "name": "stdout",
          "text": [
            "Trial hyperparameters: optimizer=adam, learning_rate=0.001402758183856086, epochs=24, layers=[(81, 'sigmoid'), (97, 'sigmoid'), (90, 'sigmoid'), (119, 'relu')]\n"
          ]
        },
        {
          "output_type": "stream",
          "name": "stderr",
          "text": [
            "[I 2024-10-04 01:10:31,390] Trial 25 finished with value: 0.7820000052452087 and parameters: {'optimizer': 'adam', 'learning_rate': 0.001402758183856086, 'epochs': 24, 'n_layers': 4, 'units_0': 81, 'activation_0': 'sigmoid', 'units_1': 97, 'activation_1': 'sigmoid', 'units_2': 90, 'activation_2': 'sigmoid', 'units_3': 119, 'activation_3': 'relu'}. Best is trial 21 with value: 0.8544999957084656.\n"
          ]
        },
        {
          "output_type": "stream",
          "name": "stdout",
          "text": [
            "Trial hyperparameters: optimizer=adam, learning_rate=0.003989298934522288, epochs=28, layers=[(109, 'relu'), (112, 'sigmoid')]\n"
          ]
        },
        {
          "output_type": "stream",
          "name": "stderr",
          "text": [
            "[I 2024-10-04 01:10:55,337] Trial 26 finished with value: 0.8374999761581421 and parameters: {'optimizer': 'adam', 'learning_rate': 0.003989298934522288, 'epochs': 28, 'n_layers': 2, 'units_0': 109, 'activation_0': 'relu', 'units_1': 112, 'activation_1': 'sigmoid'}. Best is trial 21 with value: 0.8544999957084656.\n"
          ]
        },
        {
          "output_type": "stream",
          "name": "stdout",
          "text": [
            "Trial hyperparameters: optimizer=adam, learning_rate=0.023257848469513436, epochs=21, layers=[(90, 'sigmoid'), (84, 'sigmoid'), (125, 'relu')]\n"
          ]
        },
        {
          "output_type": "stream",
          "name": "stderr",
          "text": [
            "[I 2024-10-04 01:11:20,959] Trial 27 finished with value: 0.5669999718666077 and parameters: {'optimizer': 'adam', 'learning_rate': 0.023257848469513436, 'epochs': 21, 'n_layers': 3, 'units_0': 90, 'activation_0': 'sigmoid', 'units_1': 84, 'activation_1': 'sigmoid', 'units_2': 125, 'activation_2': 'relu'}. Best is trial 21 with value: 0.8544999957084656.\n"
          ]
        },
        {
          "output_type": "stream",
          "name": "stdout",
          "text": [
            "Trial hyperparameters: optimizer=adam, learning_rate=0.00020947120851167364, epochs=28, layers=[(113, 'sigmoid'), (119, 'sigmoid')]\n"
          ]
        },
        {
          "output_type": "stream",
          "name": "stderr",
          "text": [
            "[I 2024-10-04 01:11:43,957] Trial 28 finished with value: 0.8190000057220459 and parameters: {'optimizer': 'adam', 'learning_rate': 0.00020947120851167364, 'epochs': 28, 'n_layers': 2, 'units_0': 113, 'activation_0': 'sigmoid', 'units_1': 119, 'activation_1': 'sigmoid'}. Best is trial 21 with value: 0.8544999957084656.\n"
          ]
        },
        {
          "output_type": "stream",
          "name": "stdout",
          "text": [
            "Trial hyperparameters: optimizer=sgd, learning_rate=0.012140935688561233, epochs=9, layers=[(127, 'relu'), (103, 'sigmoid'), (103, 'sigmoid')]\n"
          ]
        },
        {
          "output_type": "stream",
          "name": "stderr",
          "text": [
            "[I 2024-10-04 01:11:56,678] Trial 29 finished with value: 0.5339999794960022 and parameters: {'optimizer': 'sgd', 'learning_rate': 0.012140935688561233, 'epochs': 9, 'n_layers': 3, 'units_0': 127, 'activation_0': 'relu', 'units_1': 103, 'activation_1': 'sigmoid', 'units_2': 103, 'activation_2': 'sigmoid'}. Best is trial 21 with value: 0.8544999957084656.\n"
          ]
        },
        {
          "output_type": "stream",
          "name": "stdout",
          "text": [
            "Trial hyperparameters: optimizer=adam, learning_rate=0.003413186396687941, epochs=24, layers=[(75, 'sigmoid'), (95, 'sigmoid'), (34, 'relu')]\n"
          ]
        },
        {
          "output_type": "stream",
          "name": "stderr",
          "text": [
            "[I 2024-10-04 01:12:26,371] Trial 30 finished with value: 0.7940000295639038 and parameters: {'optimizer': 'adam', 'learning_rate': 0.003413186396687941, 'epochs': 24, 'n_layers': 3, 'units_0': 75, 'activation_0': 'sigmoid', 'units_1': 95, 'activation_1': 'sigmoid', 'units_2': 34, 'activation_2': 'relu'}. Best is trial 21 with value: 0.8544999957084656.\n"
          ]
        },
        {
          "output_type": "stream",
          "name": "stdout",
          "text": [
            "Trial hyperparameters: optimizer=adam, learning_rate=0.0008425837302051828, epochs=28, layers=[(52, 'sigmoid')]\n"
          ]
        },
        {
          "output_type": "stream",
          "name": "stderr",
          "text": [
            "[I 2024-10-04 01:12:45,502] Trial 31 finished with value: 0.8379999995231628 and parameters: {'optimizer': 'adam', 'learning_rate': 0.0008425837302051828, 'epochs': 28, 'n_layers': 1, 'units_0': 52, 'activation_0': 'sigmoid'}. Best is trial 21 with value: 0.8544999957084656.\n"
          ]
        },
        {
          "output_type": "stream",
          "name": "stdout",
          "text": [
            "Trial hyperparameters: optimizer=adam, learning_rate=0.0013740053961579831, epochs=28, layers=[(93, 'sigmoid'), (119, 'sigmoid')]\n"
          ]
        },
        {
          "output_type": "stream",
          "name": "stderr",
          "text": [
            "[I 2024-10-04 01:13:08,087] Trial 32 finished with value: 0.8495000004768372 and parameters: {'optimizer': 'adam', 'learning_rate': 0.0013740053961579831, 'epochs': 28, 'n_layers': 2, 'units_0': 93, 'activation_0': 'sigmoid', 'units_1': 119, 'activation_1': 'sigmoid'}. Best is trial 21 with value: 0.8544999957084656.\n"
          ]
        },
        {
          "output_type": "stream",
          "name": "stdout",
          "text": [
            "Trial hyperparameters: optimizer=adam, learning_rate=0.0013966442880989026, epochs=25, layers=[(94, 'sigmoid'), (116, 'sigmoid')]\n"
          ]
        },
        {
          "output_type": "stream",
          "name": "stderr",
          "text": [
            "[I 2024-10-04 01:13:29,437] Trial 33 finished with value: 0.8519999980926514 and parameters: {'optimizer': 'adam', 'learning_rate': 0.0013966442880989026, 'epochs': 25, 'n_layers': 2, 'units_0': 94, 'activation_0': 'sigmoid', 'units_1': 116, 'activation_1': 'sigmoid'}. Best is trial 21 with value: 0.8544999957084656.\n"
          ]
        },
        {
          "output_type": "stream",
          "name": "stdout",
          "text": [
            "Trial hyperparameters: optimizer=adam, learning_rate=0.00025212931227047263, epochs=18, layers=[(104, 'sigmoid'), (107, 'sigmoid')]\n"
          ]
        },
        {
          "output_type": "stream",
          "name": "stderr",
          "text": [
            "[I 2024-10-04 01:13:46,770] Trial 34 finished with value: 0.8025000095367432 and parameters: {'optimizer': 'adam', 'learning_rate': 0.00025212931227047263, 'epochs': 18, 'n_layers': 2, 'units_0': 104, 'activation_0': 'sigmoid', 'units_1': 107, 'activation_1': 'sigmoid'}. Best is trial 21 with value: 0.8544999957084656.\n"
          ]
        },
        {
          "output_type": "stream",
          "name": "stdout",
          "text": [
            "Trial hyperparameters: optimizer=adam, learning_rate=0.006632298018079563, epochs=24, layers=[(80, 'sigmoid'), (128, 'sigmoid'), (90, 'sigmoid')]\n"
          ]
        },
        {
          "output_type": "stream",
          "name": "stderr",
          "text": [
            "[I 2024-10-04 01:14:13,629] Trial 35 finished with value: 0.7994999885559082 and parameters: {'optimizer': 'adam', 'learning_rate': 0.006632298018079563, 'epochs': 24, 'n_layers': 3, 'units_0': 80, 'activation_0': 'sigmoid', 'units_1': 128, 'activation_1': 'sigmoid', 'units_2': 90, 'activation_2': 'sigmoid'}. Best is trial 21 with value: 0.8544999957084656.\n"
          ]
        },
        {
          "output_type": "stream",
          "name": "stdout",
          "text": [
            "Trial hyperparameters: optimizer=sgd, learning_rate=0.0021730217223732366, epochs=25, layers=[(102, 'relu'), (118, 'sigmoid')]\n"
          ]
        },
        {
          "output_type": "stream",
          "name": "stderr",
          "text": [
            "[I 2024-10-04 01:14:34,050] Trial 36 finished with value: 0.6980000138282776 and parameters: {'optimizer': 'sgd', 'learning_rate': 0.0021730217223732366, 'epochs': 25, 'n_layers': 2, 'units_0': 102, 'activation_0': 'relu', 'units_1': 118, 'activation_1': 'sigmoid'}. Best is trial 21 with value: 0.8544999957084656.\n"
          ]
        },
        {
          "output_type": "stream",
          "name": "stdout",
          "text": [
            "Trial hyperparameters: optimizer=adam, learning_rate=0.001396252047711245, epochs=26, layers=[(120, 'sigmoid'), (104, 'sigmoid'), (110, 'relu')]\n"
          ]
        },
        {
          "output_type": "stream",
          "name": "stderr",
          "text": [
            "[I 2024-10-04 01:15:01,615] Trial 37 finished with value: 0.840499997138977 and parameters: {'optimizer': 'adam', 'learning_rate': 0.001396252047711245, 'epochs': 26, 'n_layers': 3, 'units_0': 120, 'activation_0': 'sigmoid', 'units_1': 104, 'activation_1': 'sigmoid', 'units_2': 110, 'activation_2': 'relu'}. Best is trial 21 with value: 0.8544999957084656.\n"
          ]
        },
        {
          "output_type": "stream",
          "name": "stdout",
          "text": [
            "Trial hyperparameters: optimizer=adam, learning_rate=0.021769461634573842, epochs=16, layers=[(84, 'relu'), (115, 'sigmoid')]\n"
          ]
        },
        {
          "output_type": "stream",
          "name": "stderr",
          "text": [
            "[I 2024-10-04 01:15:19,826] Trial 38 finished with value: 0.6610000133514404 and parameters: {'optimizer': 'adam', 'learning_rate': 0.021769461634573842, 'epochs': 16, 'n_layers': 2, 'units_0': 84, 'activation_0': 'relu', 'units_1': 115, 'activation_1': 'sigmoid'}. Best is trial 21 with value: 0.8544999957084656.\n"
          ]
        },
        {
          "output_type": "stream",
          "name": "stdout",
          "text": [
            "Trial hyperparameters: optimizer=sgd, learning_rate=0.008310621566445645, epochs=14, layers=[(94, 'sigmoid'), (82, 'sigmoid'), (75, 'relu')]\n"
          ]
        },
        {
          "output_type": "stream",
          "name": "stderr",
          "text": [
            "[I 2024-10-04 01:15:34,534] Trial 39 finished with value: 0.1850000023841858 and parameters: {'optimizer': 'sgd', 'learning_rate': 0.008310621566445645, 'epochs': 14, 'n_layers': 3, 'units_0': 94, 'activation_0': 'sigmoid', 'units_1': 82, 'activation_1': 'sigmoid', 'units_2': 75, 'activation_2': 'relu'}. Best is trial 21 with value: 0.8544999957084656.\n"
          ]
        },
        {
          "output_type": "stream",
          "name": "stdout",
          "text": [
            "Trial hyperparameters: optimizer=adam, learning_rate=0.003930603158972914, epochs=20, layers=[(112, 'sigmoid'), (109, 'sigmoid')]\n"
          ]
        },
        {
          "output_type": "stream",
          "name": "stderr",
          "text": [
            "[I 2024-10-04 01:15:52,321] Trial 40 finished with value: 0.8374999761581421 and parameters: {'optimizer': 'adam', 'learning_rate': 0.003930603158972914, 'epochs': 20, 'n_layers': 2, 'units_0': 112, 'activation_0': 'sigmoid', 'units_1': 109, 'activation_1': 'sigmoid'}. Best is trial 21 with value: 0.8544999957084656.\n"
          ]
        },
        {
          "output_type": "stream",
          "name": "stdout",
          "text": [
            "Trial hyperparameters: optimizer=adam, learning_rate=0.001149501187502298, epochs=27, layers=[(90, 'sigmoid'), (118, 'sigmoid')]\n"
          ]
        },
        {
          "output_type": "stream",
          "name": "stderr",
          "text": [
            "[I 2024-10-04 01:16:13,325] Trial 41 finished with value: 0.8479999899864197 and parameters: {'optimizer': 'adam', 'learning_rate': 0.001149501187502298, 'epochs': 27, 'n_layers': 2, 'units_0': 90, 'activation_0': 'sigmoid', 'units_1': 118, 'activation_1': 'sigmoid'}. Best is trial 21 with value: 0.8544999957084656.\n"
          ]
        },
        {
          "output_type": "stream",
          "name": "stdout",
          "text": [
            "Trial hyperparameters: optimizer=adam, learning_rate=0.001770312302498647, epochs=28, layers=[(95, 'sigmoid'), (123, 'sigmoid')]\n"
          ]
        },
        {
          "output_type": "stream",
          "name": "stderr",
          "text": [
            "[I 2024-10-04 01:16:35,534] Trial 42 finished with value: 0.8475000262260437 and parameters: {'optimizer': 'adam', 'learning_rate': 0.001770312302498647, 'epochs': 28, 'n_layers': 2, 'units_0': 95, 'activation_0': 'sigmoid', 'units_1': 123, 'activation_1': 'sigmoid'}. Best is trial 21 with value: 0.8544999957084656.\n"
          ]
        },
        {
          "output_type": "stream",
          "name": "stdout",
          "text": [
            "Trial hyperparameters: optimizer=adam, learning_rate=0.0035548363583465157, epochs=25, layers=[(78, 'sigmoid'), (98, 'sigmoid')]\n"
          ]
        },
        {
          "output_type": "stream",
          "name": "stderr",
          "text": [
            "[I 2024-10-04 01:16:56,890] Trial 43 finished with value: 0.8485000133514404 and parameters: {'optimizer': 'adam', 'learning_rate': 0.0035548363583465157, 'epochs': 25, 'n_layers': 2, 'units_0': 78, 'activation_0': 'sigmoid', 'units_1': 98, 'activation_1': 'sigmoid'}. Best is trial 21 with value: 0.8544999957084656.\n"
          ]
        },
        {
          "output_type": "stream",
          "name": "stdout",
          "text": [
            "Trial hyperparameters: optimizer=adam, learning_rate=0.0008989455875414375, epochs=27, layers=[(90, 'sigmoid')]\n"
          ]
        },
        {
          "output_type": "stream",
          "name": "stderr",
          "text": [
            "[I 2024-10-04 01:17:15,956] Trial 44 finished with value: 0.8575000166893005 and parameters: {'optimizer': 'adam', 'learning_rate': 0.0008989455875414375, 'epochs': 27, 'n_layers': 1, 'units_0': 90, 'activation_0': 'sigmoid'}. Best is trial 44 with value: 0.8575000166893005.\n"
          ]
        },
        {
          "output_type": "stream",
          "name": "stdout",
          "text": [
            "Trial hyperparameters: optimizer=sgd, learning_rate=0.0003626909640279266, epochs=22, layers=[(101, 'sigmoid')]\n"
          ]
        },
        {
          "output_type": "stream",
          "name": "stderr",
          "text": [
            "[I 2024-10-04 01:17:31,879] Trial 45 finished with value: 0.5669999718666077 and parameters: {'optimizer': 'sgd', 'learning_rate': 0.0003626909640279266, 'epochs': 22, 'n_layers': 1, 'units_0': 101, 'activation_0': 'sigmoid'}. Best is trial 44 with value: 0.8575000166893005.\n"
          ]
        },
        {
          "output_type": "stream",
          "name": "stdout",
          "text": [
            "Trial hyperparameters: optimizer=adam, learning_rate=0.0006505050104033976, epochs=26, layers=[(85, 'relu')]\n"
          ]
        },
        {
          "output_type": "stream",
          "name": "stderr",
          "text": [
            "[I 2024-10-04 01:17:51,164] Trial 46 finished with value: 0.8544999957084656 and parameters: {'optimizer': 'adam', 'learning_rate': 0.0006505050104033976, 'epochs': 26, 'n_layers': 1, 'units_0': 85, 'activation_0': 'relu'}. Best is trial 44 with value: 0.8575000166893005.\n"
          ]
        },
        {
          "output_type": "stream",
          "name": "stdout",
          "text": [
            "Trial hyperparameters: optimizer=adam, learning_rate=0.00015079443997624253, epochs=26, layers=[(86, 'relu')]\n"
          ]
        },
        {
          "output_type": "stream",
          "name": "stderr",
          "text": [
            "[I 2024-10-04 01:18:10,661] Trial 47 finished with value: 0.843500018119812 and parameters: {'optimizer': 'adam', 'learning_rate': 0.00015079443997624253, 'epochs': 26, 'n_layers': 1, 'units_0': 86, 'activation_0': 'relu'}. Best is trial 44 with value: 0.8575000166893005.\n"
          ]
        },
        {
          "output_type": "stream",
          "name": "stdout",
          "text": [
            "Trial hyperparameters: optimizer=adam, learning_rate=0.000850193884583163, epochs=29, layers=[(71, 'relu')]\n"
          ]
        },
        {
          "output_type": "stream",
          "name": "stderr",
          "text": [
            "[I 2024-10-04 01:18:30,981] Trial 48 finished with value: 0.8600000143051147 and parameters: {'optimizer': 'adam', 'learning_rate': 0.000850193884583163, 'epochs': 29, 'n_layers': 1, 'units_0': 71, 'activation_0': 'relu'}. Best is trial 48 with value: 0.8600000143051147.\n"
          ]
        },
        {
          "output_type": "stream",
          "name": "stdout",
          "text": [
            "Trial hyperparameters: optimizer=adam, learning_rate=0.0007338217235869363, epochs=29, layers=[(70, 'relu')]\n"
          ]
        },
        {
          "output_type": "stream",
          "name": "stderr",
          "text": [
            "[I 2024-10-04 01:18:52,675] Trial 49 finished with value: 0.8560000061988831 and parameters: {'optimizer': 'adam', 'learning_rate': 0.0007338217235869363, 'epochs': 29, 'n_layers': 1, 'units_0': 70, 'activation_0': 'relu'}. Best is trial 48 with value: 0.8600000143051147.\n"
          ]
        },
        {
          "output_type": "stream",
          "name": "stdout",
          "text": [
            "Melhores hiperparâmetros: {'optimizer': 'adam', 'learning_rate': 0.000850193884583163, 'epochs': 29, 'n_layers': 1, 'units_0': 71, 'activation_0': 'relu'}\n",
            "Melhor acurácia:0.8600000143051147\n"
          ]
        }
      ]
    },
    {
      "cell_type": "code",
      "source": [
        "import optuna\n",
        "from optuna.visualization import (plot_param_importances, plot_optimization_history,\n",
        "                                  plot_contour, plot_parallel_coordinate,\n",
        "                                  plot_slice, plot_intermediate_values)\n",
        "\n",
        "# Suponha que você já criou e executou o estudo com Optuna\n",
        "# Exemplo: study = optuna.create_study(direction='minimize')\n",
        "#          study.optimize(objective, n_trials=100)\n",
        "\n",
        "# 1. Parâmetros Importantes\n",
        "plot_param_importances(study)"
      ],
      "metadata": {
        "colab": {
          "base_uri": "https://localhost:8080/",
          "height": 542
        },
        "id": "eMWAJAEMHduf",
        "outputId": "dab556cf-7899-445a-f52c-f2168dd5b702"
      },
      "execution_count": 87,
      "outputs": [
        {
          "output_type": "display_data",
          "data": {
            "text/html": [
              "<html>\n",
              "<head><meta charset=\"utf-8\" /></head>\n",
              "<body>\n",
              "    <div>            <script src=\"https://cdnjs.cloudflare.com/ajax/libs/mathjax/2.7.5/MathJax.js?config=TeX-AMS-MML_SVG\"></script><script type=\"text/javascript\">if (window.MathJax && window.MathJax.Hub && window.MathJax.Hub.Config) {window.MathJax.Hub.Config({SVG: {font: \"STIX-Web\"}});}</script>                <script type=\"text/javascript\">window.PlotlyConfig = {MathJaxConfig: 'local'};</script>\n",
              "        <script charset=\"utf-8\" src=\"https://cdn.plot.ly/plotly-2.35.2.min.js\"></script>                <div id=\"a565b1dd-a3a3-48e5-b582-15e46aa67bdb\" class=\"plotly-graph-div\" style=\"height:525px; width:100%;\"></div>            <script type=\"text/javascript\">                                    window.PLOTLYENV=window.PLOTLYENV || {};                                    if (document.getElementById(\"a565b1dd-a3a3-48e5-b582-15e46aa67bdb\")) {                    Plotly.newPlot(                        \"a565b1dd-a3a3-48e5-b582-15e46aa67bdb\",                        [{\"cliponaxis\":false,\"hovertemplate\":[\"units_0 (IntDistribution): 0.03500986082524212\\u003cextra\\u003e\\u003c\\u002fextra\\u003e\",\"learning_rate (FloatDistribution): 0.06310816106693436\\u003cextra\\u003e\\u003c\\u002fextra\\u003e\",\"optimizer (CategoricalDistribution): 0.06845702299682252\\u003cextra\\u003e\\u003c\\u002fextra\\u003e\",\"activation_0 (CategoricalDistribution): 0.08818226210287841\\u003cextra\\u003e\\u003c\\u002fextra\\u003e\",\"n_layers (IntDistribution): 0.23500647832150606\\u003cextra\\u003e\\u003c\\u002fextra\\u003e\",\"epochs (IntDistribution): 0.5102362146866164\\u003cextra\\u003e\\u003c\\u002fextra\\u003e\"],\"name\":\"Objective Value\",\"orientation\":\"h\",\"text\":[\"0.04\",\"0.06\",\"0.07\",\"0.09\",\"0.24\",\"0.51\"],\"textposition\":\"outside\",\"x\":[0.03500986082524212,0.06310816106693436,0.06845702299682252,0.08818226210287841,0.23500647832150606,0.5102362146866164],\"y\":[\"units_0\",\"learning_rate\",\"optimizer\",\"activation_0\",\"n_layers\",\"epochs\"],\"type\":\"bar\"}],                        {\"title\":{\"text\":\"Hyperparameter Importances\"},\"xaxis\":{\"title\":{\"text\":\"Hyperparameter Importance\"}},\"yaxis\":{\"title\":{\"text\":\"Hyperparameter\"}},\"template\":{\"data\":{\"histogram2dcontour\":[{\"type\":\"histogram2dcontour\",\"colorbar\":{\"outlinewidth\":0,\"ticks\":\"\"},\"colorscale\":[[0.0,\"#0d0887\"],[0.1111111111111111,\"#46039f\"],[0.2222222222222222,\"#7201a8\"],[0.3333333333333333,\"#9c179e\"],[0.4444444444444444,\"#bd3786\"],[0.5555555555555556,\"#d8576b\"],[0.6666666666666666,\"#ed7953\"],[0.7777777777777778,\"#fb9f3a\"],[0.8888888888888888,\"#fdca26\"],[1.0,\"#f0f921\"]]}],\"choropleth\":[{\"type\":\"choropleth\",\"colorbar\":{\"outlinewidth\":0,\"ticks\":\"\"}}],\"histogram2d\":[{\"type\":\"histogram2d\",\"colorbar\":{\"outlinewidth\":0,\"ticks\":\"\"},\"colorscale\":[[0.0,\"#0d0887\"],[0.1111111111111111,\"#46039f\"],[0.2222222222222222,\"#7201a8\"],[0.3333333333333333,\"#9c179e\"],[0.4444444444444444,\"#bd3786\"],[0.5555555555555556,\"#d8576b\"],[0.6666666666666666,\"#ed7953\"],[0.7777777777777778,\"#fb9f3a\"],[0.8888888888888888,\"#fdca26\"],[1.0,\"#f0f921\"]]}],\"heatmap\":[{\"type\":\"heatmap\",\"colorbar\":{\"outlinewidth\":0,\"ticks\":\"\"},\"colorscale\":[[0.0,\"#0d0887\"],[0.1111111111111111,\"#46039f\"],[0.2222222222222222,\"#7201a8\"],[0.3333333333333333,\"#9c179e\"],[0.4444444444444444,\"#bd3786\"],[0.5555555555555556,\"#d8576b\"],[0.6666666666666666,\"#ed7953\"],[0.7777777777777778,\"#fb9f3a\"],[0.8888888888888888,\"#fdca26\"],[1.0,\"#f0f921\"]]}],\"heatmapgl\":[{\"type\":\"heatmapgl\",\"colorbar\":{\"outlinewidth\":0,\"ticks\":\"\"},\"colorscale\":[[0.0,\"#0d0887\"],[0.1111111111111111,\"#46039f\"],[0.2222222222222222,\"#7201a8\"],[0.3333333333333333,\"#9c179e\"],[0.4444444444444444,\"#bd3786\"],[0.5555555555555556,\"#d8576b\"],[0.6666666666666666,\"#ed7953\"],[0.7777777777777778,\"#fb9f3a\"],[0.8888888888888888,\"#fdca26\"],[1.0,\"#f0f921\"]]}],\"contourcarpet\":[{\"type\":\"contourcarpet\",\"colorbar\":{\"outlinewidth\":0,\"ticks\":\"\"}}],\"contour\":[{\"type\":\"contour\",\"colorbar\":{\"outlinewidth\":0,\"ticks\":\"\"},\"colorscale\":[[0.0,\"#0d0887\"],[0.1111111111111111,\"#46039f\"],[0.2222222222222222,\"#7201a8\"],[0.3333333333333333,\"#9c179e\"],[0.4444444444444444,\"#bd3786\"],[0.5555555555555556,\"#d8576b\"],[0.6666666666666666,\"#ed7953\"],[0.7777777777777778,\"#fb9f3a\"],[0.8888888888888888,\"#fdca26\"],[1.0,\"#f0f921\"]]}],\"surface\":[{\"type\":\"surface\",\"colorbar\":{\"outlinewidth\":0,\"ticks\":\"\"},\"colorscale\":[[0.0,\"#0d0887\"],[0.1111111111111111,\"#46039f\"],[0.2222222222222222,\"#7201a8\"],[0.3333333333333333,\"#9c179e\"],[0.4444444444444444,\"#bd3786\"],[0.5555555555555556,\"#d8576b\"],[0.6666666666666666,\"#ed7953\"],[0.7777777777777778,\"#fb9f3a\"],[0.8888888888888888,\"#fdca26\"],[1.0,\"#f0f921\"]]}],\"mesh3d\":[{\"type\":\"mesh3d\",\"colorbar\":{\"outlinewidth\":0,\"ticks\":\"\"}}],\"scatter\":[{\"fillpattern\":{\"fillmode\":\"overlay\",\"size\":10,\"solidity\":0.2},\"type\":\"scatter\"}],\"parcoords\":[{\"type\":\"parcoords\",\"line\":{\"colorbar\":{\"outlinewidth\":0,\"ticks\":\"\"}}}],\"scatterpolargl\":[{\"type\":\"scatterpolargl\",\"marker\":{\"colorbar\":{\"outlinewidth\":0,\"ticks\":\"\"}}}],\"bar\":[{\"error_x\":{\"color\":\"#2a3f5f\"},\"error_y\":{\"color\":\"#2a3f5f\"},\"marker\":{\"line\":{\"color\":\"#E5ECF6\",\"width\":0.5},\"pattern\":{\"fillmode\":\"overlay\",\"size\":10,\"solidity\":0.2}},\"type\":\"bar\"}],\"scattergeo\":[{\"type\":\"scattergeo\",\"marker\":{\"colorbar\":{\"outlinewidth\":0,\"ticks\":\"\"}}}],\"scatterpolar\":[{\"type\":\"scatterpolar\",\"marker\":{\"colorbar\":{\"outlinewidth\":0,\"ticks\":\"\"}}}],\"histogram\":[{\"marker\":{\"pattern\":{\"fillmode\":\"overlay\",\"size\":10,\"solidity\":0.2}},\"type\":\"histogram\"}],\"scattergl\":[{\"type\":\"scattergl\",\"marker\":{\"colorbar\":{\"outlinewidth\":0,\"ticks\":\"\"}}}],\"scatter3d\":[{\"type\":\"scatter3d\",\"line\":{\"colorbar\":{\"outlinewidth\":0,\"ticks\":\"\"}},\"marker\":{\"colorbar\":{\"outlinewidth\":0,\"ticks\":\"\"}}}],\"scattermapbox\":[{\"type\":\"scattermapbox\",\"marker\":{\"colorbar\":{\"outlinewidth\":0,\"ticks\":\"\"}}}],\"scatterternary\":[{\"type\":\"scatterternary\",\"marker\":{\"colorbar\":{\"outlinewidth\":0,\"ticks\":\"\"}}}],\"scattercarpet\":[{\"type\":\"scattercarpet\",\"marker\":{\"colorbar\":{\"outlinewidth\":0,\"ticks\":\"\"}}}],\"carpet\":[{\"aaxis\":{\"endlinecolor\":\"#2a3f5f\",\"gridcolor\":\"white\",\"linecolor\":\"white\",\"minorgridcolor\":\"white\",\"startlinecolor\":\"#2a3f5f\"},\"baxis\":{\"endlinecolor\":\"#2a3f5f\",\"gridcolor\":\"white\",\"linecolor\":\"white\",\"minorgridcolor\":\"white\",\"startlinecolor\":\"#2a3f5f\"},\"type\":\"carpet\"}],\"table\":[{\"cells\":{\"fill\":{\"color\":\"#EBF0F8\"},\"line\":{\"color\":\"white\"}},\"header\":{\"fill\":{\"color\":\"#C8D4E3\"},\"line\":{\"color\":\"white\"}},\"type\":\"table\"}],\"barpolar\":[{\"marker\":{\"line\":{\"color\":\"#E5ECF6\",\"width\":0.5},\"pattern\":{\"fillmode\":\"overlay\",\"size\":10,\"solidity\":0.2}},\"type\":\"barpolar\"}],\"pie\":[{\"automargin\":true,\"type\":\"pie\"}]},\"layout\":{\"autotypenumbers\":\"strict\",\"colorway\":[\"#636efa\",\"#EF553B\",\"#00cc96\",\"#ab63fa\",\"#FFA15A\",\"#19d3f3\",\"#FF6692\",\"#B6E880\",\"#FF97FF\",\"#FECB52\"],\"font\":{\"color\":\"#2a3f5f\"},\"hovermode\":\"closest\",\"hoverlabel\":{\"align\":\"left\"},\"paper_bgcolor\":\"white\",\"plot_bgcolor\":\"#E5ECF6\",\"polar\":{\"bgcolor\":\"#E5ECF6\",\"angularaxis\":{\"gridcolor\":\"white\",\"linecolor\":\"white\",\"ticks\":\"\"},\"radialaxis\":{\"gridcolor\":\"white\",\"linecolor\":\"white\",\"ticks\":\"\"}},\"ternary\":{\"bgcolor\":\"#E5ECF6\",\"aaxis\":{\"gridcolor\":\"white\",\"linecolor\":\"white\",\"ticks\":\"\"},\"baxis\":{\"gridcolor\":\"white\",\"linecolor\":\"white\",\"ticks\":\"\"},\"caxis\":{\"gridcolor\":\"white\",\"linecolor\":\"white\",\"ticks\":\"\"}},\"coloraxis\":{\"colorbar\":{\"outlinewidth\":0,\"ticks\":\"\"}},\"colorscale\":{\"sequential\":[[0.0,\"#0d0887\"],[0.1111111111111111,\"#46039f\"],[0.2222222222222222,\"#7201a8\"],[0.3333333333333333,\"#9c179e\"],[0.4444444444444444,\"#bd3786\"],[0.5555555555555556,\"#d8576b\"],[0.6666666666666666,\"#ed7953\"],[0.7777777777777778,\"#fb9f3a\"],[0.8888888888888888,\"#fdca26\"],[1.0,\"#f0f921\"]],\"sequentialminus\":[[0.0,\"#0d0887\"],[0.1111111111111111,\"#46039f\"],[0.2222222222222222,\"#7201a8\"],[0.3333333333333333,\"#9c179e\"],[0.4444444444444444,\"#bd3786\"],[0.5555555555555556,\"#d8576b\"],[0.6666666666666666,\"#ed7953\"],[0.7777777777777778,\"#fb9f3a\"],[0.8888888888888888,\"#fdca26\"],[1.0,\"#f0f921\"]],\"diverging\":[[0,\"#8e0152\"],[0.1,\"#c51b7d\"],[0.2,\"#de77ae\"],[0.3,\"#f1b6da\"],[0.4,\"#fde0ef\"],[0.5,\"#f7f7f7\"],[0.6,\"#e6f5d0\"],[0.7,\"#b8e186\"],[0.8,\"#7fbc41\"],[0.9,\"#4d9221\"],[1,\"#276419\"]]},\"xaxis\":{\"gridcolor\":\"white\",\"linecolor\":\"white\",\"ticks\":\"\",\"title\":{\"standoff\":15},\"zerolinecolor\":\"white\",\"automargin\":true,\"zerolinewidth\":2},\"yaxis\":{\"gridcolor\":\"white\",\"linecolor\":\"white\",\"ticks\":\"\",\"title\":{\"standoff\":15},\"zerolinecolor\":\"white\",\"automargin\":true,\"zerolinewidth\":2},\"scene\":{\"xaxis\":{\"backgroundcolor\":\"#E5ECF6\",\"gridcolor\":\"white\",\"linecolor\":\"white\",\"showbackground\":true,\"ticks\":\"\",\"zerolinecolor\":\"white\",\"gridwidth\":2},\"yaxis\":{\"backgroundcolor\":\"#E5ECF6\",\"gridcolor\":\"white\",\"linecolor\":\"white\",\"showbackground\":true,\"ticks\":\"\",\"zerolinecolor\":\"white\",\"gridwidth\":2},\"zaxis\":{\"backgroundcolor\":\"#E5ECF6\",\"gridcolor\":\"white\",\"linecolor\":\"white\",\"showbackground\":true,\"ticks\":\"\",\"zerolinecolor\":\"white\",\"gridwidth\":2}},\"shapedefaults\":{\"line\":{\"color\":\"#2a3f5f\"}},\"annotationdefaults\":{\"arrowcolor\":\"#2a3f5f\",\"arrowhead\":0,\"arrowwidth\":1},\"geo\":{\"bgcolor\":\"white\",\"landcolor\":\"#E5ECF6\",\"subunitcolor\":\"white\",\"showland\":true,\"showlakes\":true,\"lakecolor\":\"white\"},\"title\":{\"x\":0.05},\"mapbox\":{\"style\":\"light\"}}}},                        {\"responsive\": true}                    ).then(function(){\n",
              "                            \n",
              "var gd = document.getElementById('a565b1dd-a3a3-48e5-b582-15e46aa67bdb');\n",
              "var x = new MutationObserver(function (mutations, observer) {{\n",
              "        var display = window.getComputedStyle(gd).display;\n",
              "        if (!display || display === 'none') {{\n",
              "            console.log([gd, 'removed!']);\n",
              "            Plotly.purge(gd);\n",
              "            observer.disconnect();\n",
              "        }}\n",
              "}});\n",
              "\n",
              "// Listen for the removal of the full notebook cells\n",
              "var notebookContainer = gd.closest('#notebook-container');\n",
              "if (notebookContainer) {{\n",
              "    x.observe(notebookContainer, {childList: true});\n",
              "}}\n",
              "\n",
              "// Listen for the clearing of the current output cell\n",
              "var outputEl = gd.closest('.output');\n",
              "if (outputEl) {{\n",
              "    x.observe(outputEl, {childList: true});\n",
              "}}\n",
              "\n",
              "                        })                };                            </script>        </div>\n",
              "</body>\n",
              "</html>"
            ]
          },
          "metadata": {}
        }
      ]
    },
    {
      "cell_type": "code",
      "source": [
        "# 2. Histórico da Otimização\n",
        "plot_optimization_history(study)"
      ],
      "metadata": {
        "colab": {
          "base_uri": "https://localhost:8080/",
          "height": 542
        },
        "id": "ewaz0xrQHhTr",
        "outputId": "f3c6995c-5f61-4361-c57b-1288ff793eff"
      },
      "execution_count": 88,
      "outputs": [
        {
          "output_type": "display_data",
          "data": {
            "text/html": [
              "<html>\n",
              "<head><meta charset=\"utf-8\" /></head>\n",
              "<body>\n",
              "    <div>            <script src=\"https://cdnjs.cloudflare.com/ajax/libs/mathjax/2.7.5/MathJax.js?config=TeX-AMS-MML_SVG\"></script><script type=\"text/javascript\">if (window.MathJax && window.MathJax.Hub && window.MathJax.Hub.Config) {window.MathJax.Hub.Config({SVG: {font: \"STIX-Web\"}});}</script>                <script type=\"text/javascript\">window.PlotlyConfig = {MathJaxConfig: 'local'};</script>\n",
              "        <script charset=\"utf-8\" src=\"https://cdn.plot.ly/plotly-2.35.2.min.js\"></script>                <div id=\"928a8cce-d58e-4fc8-bbee-709d8904bbc8\" class=\"plotly-graph-div\" style=\"height:525px; width:100%;\"></div>            <script type=\"text/javascript\">                                    window.PLOTLYENV=window.PLOTLYENV || {};                                    if (document.getElementById(\"928a8cce-d58e-4fc8-bbee-709d8904bbc8\")) {                    Plotly.newPlot(                        \"928a8cce-d58e-4fc8-bbee-709d8904bbc8\",                        [{\"mode\":\"markers\",\"name\":\"Objective Value\",\"x\":[0,1,2,3,4,5,6,7,8,9,10,11,12,13,14,15,16,17,18,19,20,21,22,23,24,25,26,27,28,29,30,31,32,33,34,35,36,37,38,39,40,41,42,43,44,45,46,47,48,49],\"y\":[0.5534999966621399,0.6010000109672546,0.11500000208616257,0.7894999980926514,0.7680000066757202,0.4259999990463257,0.09149999916553497,0.3725000023841858,0.10350000113248825,0.09749999642372131,0.8454999923706055,0.8410000205039978,0.8485000133514404,0.8450000286102295,0.8245000243186951,0.6769999861717224,0.8414999842643738,0.8184999823570251,0.8514999747276306,0.8504999876022339,0.09300000220537186,0.8544999957084656,0.8420000076293945,0.8374999761581421,0.8370000123977661,0.7820000052452087,0.8374999761581421,0.5669999718666077,0.8190000057220459,0.5339999794960022,0.7940000295639038,0.8379999995231628,0.8495000004768372,0.8519999980926514,0.8025000095367432,0.7994999885559082,0.6980000138282776,0.840499997138977,0.6610000133514404,0.1850000023841858,0.8374999761581421,0.8479999899864197,0.8475000262260437,0.8485000133514404,0.8575000166893005,0.5669999718666077,0.8544999957084656,0.843500018119812,0.8600000143051147,0.8560000061988831],\"type\":\"scatter\"},{\"mode\":\"lines\",\"name\":\"Best Value\",\"x\":[0,1,2,3,4,5,6,7,8,9,10,11,12,13,14,15,16,17,18,19,20,21,22,23,24,25,26,27,28,29,30,31,32,33,34,35,36,37,38,39,40,41,42,43,44,45,46,47,48,49],\"y\":[0.5534999966621399,0.6010000109672546,0.6010000109672546,0.7894999980926514,0.7894999980926514,0.7894999980926514,0.7894999980926514,0.7894999980926514,0.7894999980926514,0.7894999980926514,0.8454999923706055,0.8454999923706055,0.8485000133514404,0.8485000133514404,0.8485000133514404,0.8485000133514404,0.8485000133514404,0.8485000133514404,0.8514999747276306,0.8514999747276306,0.8514999747276306,0.8544999957084656,0.8544999957084656,0.8544999957084656,0.8544999957084656,0.8544999957084656,0.8544999957084656,0.8544999957084656,0.8544999957084656,0.8544999957084656,0.8544999957084656,0.8544999957084656,0.8544999957084656,0.8544999957084656,0.8544999957084656,0.8544999957084656,0.8544999957084656,0.8544999957084656,0.8544999957084656,0.8544999957084656,0.8544999957084656,0.8544999957084656,0.8544999957084656,0.8544999957084656,0.8575000166893005,0.8575000166893005,0.8575000166893005,0.8575000166893005,0.8600000143051147,0.8600000143051147],\"type\":\"scatter\"},{\"marker\":{\"color\":\"#cccccc\"},\"mode\":\"markers\",\"name\":\"Infeasible Trial\",\"showlegend\":false,\"x\":[],\"y\":[],\"type\":\"scatter\"}],                        {\"title\":{\"text\":\"Optimization History Plot\"},\"xaxis\":{\"title\":{\"text\":\"Trial\"}},\"yaxis\":{\"title\":{\"text\":\"Objective Value\"}},\"template\":{\"data\":{\"histogram2dcontour\":[{\"type\":\"histogram2dcontour\",\"colorbar\":{\"outlinewidth\":0,\"ticks\":\"\"},\"colorscale\":[[0.0,\"#0d0887\"],[0.1111111111111111,\"#46039f\"],[0.2222222222222222,\"#7201a8\"],[0.3333333333333333,\"#9c179e\"],[0.4444444444444444,\"#bd3786\"],[0.5555555555555556,\"#d8576b\"],[0.6666666666666666,\"#ed7953\"],[0.7777777777777778,\"#fb9f3a\"],[0.8888888888888888,\"#fdca26\"],[1.0,\"#f0f921\"]]}],\"choropleth\":[{\"type\":\"choropleth\",\"colorbar\":{\"outlinewidth\":0,\"ticks\":\"\"}}],\"histogram2d\":[{\"type\":\"histogram2d\",\"colorbar\":{\"outlinewidth\":0,\"ticks\":\"\"},\"colorscale\":[[0.0,\"#0d0887\"],[0.1111111111111111,\"#46039f\"],[0.2222222222222222,\"#7201a8\"],[0.3333333333333333,\"#9c179e\"],[0.4444444444444444,\"#bd3786\"],[0.5555555555555556,\"#d8576b\"],[0.6666666666666666,\"#ed7953\"],[0.7777777777777778,\"#fb9f3a\"],[0.8888888888888888,\"#fdca26\"],[1.0,\"#f0f921\"]]}],\"heatmap\":[{\"type\":\"heatmap\",\"colorbar\":{\"outlinewidth\":0,\"ticks\":\"\"},\"colorscale\":[[0.0,\"#0d0887\"],[0.1111111111111111,\"#46039f\"],[0.2222222222222222,\"#7201a8\"],[0.3333333333333333,\"#9c179e\"],[0.4444444444444444,\"#bd3786\"],[0.5555555555555556,\"#d8576b\"],[0.6666666666666666,\"#ed7953\"],[0.7777777777777778,\"#fb9f3a\"],[0.8888888888888888,\"#fdca26\"],[1.0,\"#f0f921\"]]}],\"heatmapgl\":[{\"type\":\"heatmapgl\",\"colorbar\":{\"outlinewidth\":0,\"ticks\":\"\"},\"colorscale\":[[0.0,\"#0d0887\"],[0.1111111111111111,\"#46039f\"],[0.2222222222222222,\"#7201a8\"],[0.3333333333333333,\"#9c179e\"],[0.4444444444444444,\"#bd3786\"],[0.5555555555555556,\"#d8576b\"],[0.6666666666666666,\"#ed7953\"],[0.7777777777777778,\"#fb9f3a\"],[0.8888888888888888,\"#fdca26\"],[1.0,\"#f0f921\"]]}],\"contourcarpet\":[{\"type\":\"contourcarpet\",\"colorbar\":{\"outlinewidth\":0,\"ticks\":\"\"}}],\"contour\":[{\"type\":\"contour\",\"colorbar\":{\"outlinewidth\":0,\"ticks\":\"\"},\"colorscale\":[[0.0,\"#0d0887\"],[0.1111111111111111,\"#46039f\"],[0.2222222222222222,\"#7201a8\"],[0.3333333333333333,\"#9c179e\"],[0.4444444444444444,\"#bd3786\"],[0.5555555555555556,\"#d8576b\"],[0.6666666666666666,\"#ed7953\"],[0.7777777777777778,\"#fb9f3a\"],[0.8888888888888888,\"#fdca26\"],[1.0,\"#f0f921\"]]}],\"surface\":[{\"type\":\"surface\",\"colorbar\":{\"outlinewidth\":0,\"ticks\":\"\"},\"colorscale\":[[0.0,\"#0d0887\"],[0.1111111111111111,\"#46039f\"],[0.2222222222222222,\"#7201a8\"],[0.3333333333333333,\"#9c179e\"],[0.4444444444444444,\"#bd3786\"],[0.5555555555555556,\"#d8576b\"],[0.6666666666666666,\"#ed7953\"],[0.7777777777777778,\"#fb9f3a\"],[0.8888888888888888,\"#fdca26\"],[1.0,\"#f0f921\"]]}],\"mesh3d\":[{\"type\":\"mesh3d\",\"colorbar\":{\"outlinewidth\":0,\"ticks\":\"\"}}],\"scatter\":[{\"fillpattern\":{\"fillmode\":\"overlay\",\"size\":10,\"solidity\":0.2},\"type\":\"scatter\"}],\"parcoords\":[{\"type\":\"parcoords\",\"line\":{\"colorbar\":{\"outlinewidth\":0,\"ticks\":\"\"}}}],\"scatterpolargl\":[{\"type\":\"scatterpolargl\",\"marker\":{\"colorbar\":{\"outlinewidth\":0,\"ticks\":\"\"}}}],\"bar\":[{\"error_x\":{\"color\":\"#2a3f5f\"},\"error_y\":{\"color\":\"#2a3f5f\"},\"marker\":{\"line\":{\"color\":\"#E5ECF6\",\"width\":0.5},\"pattern\":{\"fillmode\":\"overlay\",\"size\":10,\"solidity\":0.2}},\"type\":\"bar\"}],\"scattergeo\":[{\"type\":\"scattergeo\",\"marker\":{\"colorbar\":{\"outlinewidth\":0,\"ticks\":\"\"}}}],\"scatterpolar\":[{\"type\":\"scatterpolar\",\"marker\":{\"colorbar\":{\"outlinewidth\":0,\"ticks\":\"\"}}}],\"histogram\":[{\"marker\":{\"pattern\":{\"fillmode\":\"overlay\",\"size\":10,\"solidity\":0.2}},\"type\":\"histogram\"}],\"scattergl\":[{\"type\":\"scattergl\",\"marker\":{\"colorbar\":{\"outlinewidth\":0,\"ticks\":\"\"}}}],\"scatter3d\":[{\"type\":\"scatter3d\",\"line\":{\"colorbar\":{\"outlinewidth\":0,\"ticks\":\"\"}},\"marker\":{\"colorbar\":{\"outlinewidth\":0,\"ticks\":\"\"}}}],\"scattermapbox\":[{\"type\":\"scattermapbox\",\"marker\":{\"colorbar\":{\"outlinewidth\":0,\"ticks\":\"\"}}}],\"scatterternary\":[{\"type\":\"scatterternary\",\"marker\":{\"colorbar\":{\"outlinewidth\":0,\"ticks\":\"\"}}}],\"scattercarpet\":[{\"type\":\"scattercarpet\",\"marker\":{\"colorbar\":{\"outlinewidth\":0,\"ticks\":\"\"}}}],\"carpet\":[{\"aaxis\":{\"endlinecolor\":\"#2a3f5f\",\"gridcolor\":\"white\",\"linecolor\":\"white\",\"minorgridcolor\":\"white\",\"startlinecolor\":\"#2a3f5f\"},\"baxis\":{\"endlinecolor\":\"#2a3f5f\",\"gridcolor\":\"white\",\"linecolor\":\"white\",\"minorgridcolor\":\"white\",\"startlinecolor\":\"#2a3f5f\"},\"type\":\"carpet\"}],\"table\":[{\"cells\":{\"fill\":{\"color\":\"#EBF0F8\"},\"line\":{\"color\":\"white\"}},\"header\":{\"fill\":{\"color\":\"#C8D4E3\"},\"line\":{\"color\":\"white\"}},\"type\":\"table\"}],\"barpolar\":[{\"marker\":{\"line\":{\"color\":\"#E5ECF6\",\"width\":0.5},\"pattern\":{\"fillmode\":\"overlay\",\"size\":10,\"solidity\":0.2}},\"type\":\"barpolar\"}],\"pie\":[{\"automargin\":true,\"type\":\"pie\"}]},\"layout\":{\"autotypenumbers\":\"strict\",\"colorway\":[\"#636efa\",\"#EF553B\",\"#00cc96\",\"#ab63fa\",\"#FFA15A\",\"#19d3f3\",\"#FF6692\",\"#B6E880\",\"#FF97FF\",\"#FECB52\"],\"font\":{\"color\":\"#2a3f5f\"},\"hovermode\":\"closest\",\"hoverlabel\":{\"align\":\"left\"},\"paper_bgcolor\":\"white\",\"plot_bgcolor\":\"#E5ECF6\",\"polar\":{\"bgcolor\":\"#E5ECF6\",\"angularaxis\":{\"gridcolor\":\"white\",\"linecolor\":\"white\",\"ticks\":\"\"},\"radialaxis\":{\"gridcolor\":\"white\",\"linecolor\":\"white\",\"ticks\":\"\"}},\"ternary\":{\"bgcolor\":\"#E5ECF6\",\"aaxis\":{\"gridcolor\":\"white\",\"linecolor\":\"white\",\"ticks\":\"\"},\"baxis\":{\"gridcolor\":\"white\",\"linecolor\":\"white\",\"ticks\":\"\"},\"caxis\":{\"gridcolor\":\"white\",\"linecolor\":\"white\",\"ticks\":\"\"}},\"coloraxis\":{\"colorbar\":{\"outlinewidth\":0,\"ticks\":\"\"}},\"colorscale\":{\"sequential\":[[0.0,\"#0d0887\"],[0.1111111111111111,\"#46039f\"],[0.2222222222222222,\"#7201a8\"],[0.3333333333333333,\"#9c179e\"],[0.4444444444444444,\"#bd3786\"],[0.5555555555555556,\"#d8576b\"],[0.6666666666666666,\"#ed7953\"],[0.7777777777777778,\"#fb9f3a\"],[0.8888888888888888,\"#fdca26\"],[1.0,\"#f0f921\"]],\"sequentialminus\":[[0.0,\"#0d0887\"],[0.1111111111111111,\"#46039f\"],[0.2222222222222222,\"#7201a8\"],[0.3333333333333333,\"#9c179e\"],[0.4444444444444444,\"#bd3786\"],[0.5555555555555556,\"#d8576b\"],[0.6666666666666666,\"#ed7953\"],[0.7777777777777778,\"#fb9f3a\"],[0.8888888888888888,\"#fdca26\"],[1.0,\"#f0f921\"]],\"diverging\":[[0,\"#8e0152\"],[0.1,\"#c51b7d\"],[0.2,\"#de77ae\"],[0.3,\"#f1b6da\"],[0.4,\"#fde0ef\"],[0.5,\"#f7f7f7\"],[0.6,\"#e6f5d0\"],[0.7,\"#b8e186\"],[0.8,\"#7fbc41\"],[0.9,\"#4d9221\"],[1,\"#276419\"]]},\"xaxis\":{\"gridcolor\":\"white\",\"linecolor\":\"white\",\"ticks\":\"\",\"title\":{\"standoff\":15},\"zerolinecolor\":\"white\",\"automargin\":true,\"zerolinewidth\":2},\"yaxis\":{\"gridcolor\":\"white\",\"linecolor\":\"white\",\"ticks\":\"\",\"title\":{\"standoff\":15},\"zerolinecolor\":\"white\",\"automargin\":true,\"zerolinewidth\":2},\"scene\":{\"xaxis\":{\"backgroundcolor\":\"#E5ECF6\",\"gridcolor\":\"white\",\"linecolor\":\"white\",\"showbackground\":true,\"ticks\":\"\",\"zerolinecolor\":\"white\",\"gridwidth\":2},\"yaxis\":{\"backgroundcolor\":\"#E5ECF6\",\"gridcolor\":\"white\",\"linecolor\":\"white\",\"showbackground\":true,\"ticks\":\"\",\"zerolinecolor\":\"white\",\"gridwidth\":2},\"zaxis\":{\"backgroundcolor\":\"#E5ECF6\",\"gridcolor\":\"white\",\"linecolor\":\"white\",\"showbackground\":true,\"ticks\":\"\",\"zerolinecolor\":\"white\",\"gridwidth\":2}},\"shapedefaults\":{\"line\":{\"color\":\"#2a3f5f\"}},\"annotationdefaults\":{\"arrowcolor\":\"#2a3f5f\",\"arrowhead\":0,\"arrowwidth\":1},\"geo\":{\"bgcolor\":\"white\",\"landcolor\":\"#E5ECF6\",\"subunitcolor\":\"white\",\"showland\":true,\"showlakes\":true,\"lakecolor\":\"white\"},\"title\":{\"x\":0.05},\"mapbox\":{\"style\":\"light\"}}}},                        {\"responsive\": true}                    ).then(function(){\n",
              "                            \n",
              "var gd = document.getElementById('928a8cce-d58e-4fc8-bbee-709d8904bbc8');\n",
              "var x = new MutationObserver(function (mutations, observer) {{\n",
              "        var display = window.getComputedStyle(gd).display;\n",
              "        if (!display || display === 'none') {{\n",
              "            console.log([gd, 'removed!']);\n",
              "            Plotly.purge(gd);\n",
              "            observer.disconnect();\n",
              "        }}\n",
              "}});\n",
              "\n",
              "// Listen for the removal of the full notebook cells\n",
              "var notebookContainer = gd.closest('#notebook-container');\n",
              "if (notebookContainer) {{\n",
              "    x.observe(notebookContainer, {childList: true});\n",
              "}}\n",
              "\n",
              "// Listen for the clearing of the current output cell\n",
              "var outputEl = gd.closest('.output');\n",
              "if (outputEl) {{\n",
              "    x.observe(outputEl, {childList: true});\n",
              "}}\n",
              "\n",
              "                        })                };                            </script>        </div>\n",
              "</body>\n",
              "</html>"
            ]
          },
          "metadata": {}
        }
      ]
    },
    {
      "cell_type": "code",
      "source": [
        "# 4. Gráfico de Coordenadas Paralelas\n",
        "plot_parallel_coordinate(study)"
      ],
      "metadata": {
        "colab": {
          "base_uri": "https://localhost:8080/",
          "height": 542
        },
        "id": "YLUMTvAYHsil",
        "outputId": "6b0d5a8d-8a15-48f5-d802-23d1c0ab55c0"
      },
      "execution_count": 89,
      "outputs": [
        {
          "output_type": "display_data",
          "data": {
            "text/html": [
              "<html>\n",
              "<head><meta charset=\"utf-8\" /></head>\n",
              "<body>\n",
              "    <div>            <script src=\"https://cdnjs.cloudflare.com/ajax/libs/mathjax/2.7.5/MathJax.js?config=TeX-AMS-MML_SVG\"></script><script type=\"text/javascript\">if (window.MathJax && window.MathJax.Hub && window.MathJax.Hub.Config) {window.MathJax.Hub.Config({SVG: {font: \"STIX-Web\"}});}</script>                <script type=\"text/javascript\">window.PlotlyConfig = {MathJaxConfig: 'local'};</script>\n",
              "        <script charset=\"utf-8\" src=\"https://cdn.plot.ly/plotly-2.35.2.min.js\"></script>                <div id=\"a66f908b-4855-4135-8b7d-e94e738c7496\" class=\"plotly-graph-div\" style=\"height:525px; width:100%;\"></div>            <script type=\"text/javascript\">                                    window.PLOTLYENV=window.PLOTLYENV || {};                                    if (document.getElementById(\"a66f908b-4855-4135-8b7d-e94e738c7496\")) {                    Plotly.newPlot(                        \"a66f908b-4855-4135-8b7d-e94e738c7496\",                        [{\"dimensions\":[{\"label\":\"Objective Value\",\"range\":[0.10350000113248825,0.11500000208616257],\"values\":[0.11500000208616257,0.10350000113248825]},{\"label\":\"activation_0\",\"range\":[0,1],\"ticktext\":[\"relu\",\"sigmoid\"],\"tickvals\":[0,1],\"values\":[0,1]},{\"label\":\"activation_1\",\"range\":[0,1],\"ticktext\":[\"sigmoid\",\"relu\"],\"tickvals\":[0,1],\"values\":[0,1]},{\"label\":\"activation_2\",\"range\":[0,0],\"ticktext\":[\"sigmoid\"],\"tickvals\":[0],\"values\":[0,0]},{\"label\":\"activation_3\",\"range\":[0,1],\"ticktext\":[\"relu\",\"sigmoid\"],\"tickvals\":[0,1],\"values\":[0,1]},{\"label\":\"activation_4\",\"range\":[0,0],\"ticktext\":[\"relu\"],\"tickvals\":[0],\"values\":[0,0]},{\"label\":\"epochs\",\"range\":[16,22],\"values\":[16,22]},{\"label\":\"learning_rate\",\"range\":[-4.412167543313745,-1.9167600700926244],\"ticktext\":[\"3.87e-05\",\"0.0001\",\"0.001\",\"0.01\",\"0.0121\"],\"tickvals\":[-4.412167543313745,-4,-3,-2,-1.9167600700926244],\"values\":[-4.412167543313745,-1.9167600700926244]},{\"label\":\"n_layers\",\"range\":[5,5],\"values\":[5,5]},{\"label\":\"optimizer\",\"range\":[0,0],\"ticktext\":[\"sgd\"],\"tickvals\":[0],\"values\":[0,0]},{\"label\":\"units_0\",\"range\":[41,87],\"values\":[41,87]},{\"label\":\"units_1\",\"range\":[54,54],\"values\":[54,54]},{\"label\":\"units_2\",\"range\":[46,64],\"values\":[64,46]},{\"label\":\"units_3\",\"range\":[89,111],\"values\":[111,89]},{\"label\":\"units_4\",\"range\":[34,119],\"values\":[34,119]}],\"labelangle\":30,\"labelside\":\"bottom\",\"line\":{\"color\":[0.11500000208616257,0.10350000113248825],\"colorbar\":{\"title\":{\"text\":\"Objective Value\"}},\"colorscale\":[[0.0,\"rgb(247,251,255)\"],[0.125,\"rgb(222,235,247)\"],[0.25,\"rgb(198,219,239)\"],[0.375,\"rgb(158,202,225)\"],[0.5,\"rgb(107,174,214)\"],[0.625,\"rgb(66,146,198)\"],[0.75,\"rgb(33,113,181)\"],[0.875,\"rgb(8,81,156)\"],[1.0,\"rgb(8,48,107)\"]],\"reversescale\":false,\"showscale\":true},\"type\":\"parcoords\"}],                        {\"title\":{\"text\":\"Parallel Coordinate Plot\"},\"template\":{\"data\":{\"histogram2dcontour\":[{\"type\":\"histogram2dcontour\",\"colorbar\":{\"outlinewidth\":0,\"ticks\":\"\"},\"colorscale\":[[0.0,\"#0d0887\"],[0.1111111111111111,\"#46039f\"],[0.2222222222222222,\"#7201a8\"],[0.3333333333333333,\"#9c179e\"],[0.4444444444444444,\"#bd3786\"],[0.5555555555555556,\"#d8576b\"],[0.6666666666666666,\"#ed7953\"],[0.7777777777777778,\"#fb9f3a\"],[0.8888888888888888,\"#fdca26\"],[1.0,\"#f0f921\"]]}],\"choropleth\":[{\"type\":\"choropleth\",\"colorbar\":{\"outlinewidth\":0,\"ticks\":\"\"}}],\"histogram2d\":[{\"type\":\"histogram2d\",\"colorbar\":{\"outlinewidth\":0,\"ticks\":\"\"},\"colorscale\":[[0.0,\"#0d0887\"],[0.1111111111111111,\"#46039f\"],[0.2222222222222222,\"#7201a8\"],[0.3333333333333333,\"#9c179e\"],[0.4444444444444444,\"#bd3786\"],[0.5555555555555556,\"#d8576b\"],[0.6666666666666666,\"#ed7953\"],[0.7777777777777778,\"#fb9f3a\"],[0.8888888888888888,\"#fdca26\"],[1.0,\"#f0f921\"]]}],\"heatmap\":[{\"type\":\"heatmap\",\"colorbar\":{\"outlinewidth\":0,\"ticks\":\"\"},\"colorscale\":[[0.0,\"#0d0887\"],[0.1111111111111111,\"#46039f\"],[0.2222222222222222,\"#7201a8\"],[0.3333333333333333,\"#9c179e\"],[0.4444444444444444,\"#bd3786\"],[0.5555555555555556,\"#d8576b\"],[0.6666666666666666,\"#ed7953\"],[0.7777777777777778,\"#fb9f3a\"],[0.8888888888888888,\"#fdca26\"],[1.0,\"#f0f921\"]]}],\"heatmapgl\":[{\"type\":\"heatmapgl\",\"colorbar\":{\"outlinewidth\":0,\"ticks\":\"\"},\"colorscale\":[[0.0,\"#0d0887\"],[0.1111111111111111,\"#46039f\"],[0.2222222222222222,\"#7201a8\"],[0.3333333333333333,\"#9c179e\"],[0.4444444444444444,\"#bd3786\"],[0.5555555555555556,\"#d8576b\"],[0.6666666666666666,\"#ed7953\"],[0.7777777777777778,\"#fb9f3a\"],[0.8888888888888888,\"#fdca26\"],[1.0,\"#f0f921\"]]}],\"contourcarpet\":[{\"type\":\"contourcarpet\",\"colorbar\":{\"outlinewidth\":0,\"ticks\":\"\"}}],\"contour\":[{\"type\":\"contour\",\"colorbar\":{\"outlinewidth\":0,\"ticks\":\"\"},\"colorscale\":[[0.0,\"#0d0887\"],[0.1111111111111111,\"#46039f\"],[0.2222222222222222,\"#7201a8\"],[0.3333333333333333,\"#9c179e\"],[0.4444444444444444,\"#bd3786\"],[0.5555555555555556,\"#d8576b\"],[0.6666666666666666,\"#ed7953\"],[0.7777777777777778,\"#fb9f3a\"],[0.8888888888888888,\"#fdca26\"],[1.0,\"#f0f921\"]]}],\"surface\":[{\"type\":\"surface\",\"colorbar\":{\"outlinewidth\":0,\"ticks\":\"\"},\"colorscale\":[[0.0,\"#0d0887\"],[0.1111111111111111,\"#46039f\"],[0.2222222222222222,\"#7201a8\"],[0.3333333333333333,\"#9c179e\"],[0.4444444444444444,\"#bd3786\"],[0.5555555555555556,\"#d8576b\"],[0.6666666666666666,\"#ed7953\"],[0.7777777777777778,\"#fb9f3a\"],[0.8888888888888888,\"#fdca26\"],[1.0,\"#f0f921\"]]}],\"mesh3d\":[{\"type\":\"mesh3d\",\"colorbar\":{\"outlinewidth\":0,\"ticks\":\"\"}}],\"scatter\":[{\"fillpattern\":{\"fillmode\":\"overlay\",\"size\":10,\"solidity\":0.2},\"type\":\"scatter\"}],\"parcoords\":[{\"type\":\"parcoords\",\"line\":{\"colorbar\":{\"outlinewidth\":0,\"ticks\":\"\"}}}],\"scatterpolargl\":[{\"type\":\"scatterpolargl\",\"marker\":{\"colorbar\":{\"outlinewidth\":0,\"ticks\":\"\"}}}],\"bar\":[{\"error_x\":{\"color\":\"#2a3f5f\"},\"error_y\":{\"color\":\"#2a3f5f\"},\"marker\":{\"line\":{\"color\":\"#E5ECF6\",\"width\":0.5},\"pattern\":{\"fillmode\":\"overlay\",\"size\":10,\"solidity\":0.2}},\"type\":\"bar\"}],\"scattergeo\":[{\"type\":\"scattergeo\",\"marker\":{\"colorbar\":{\"outlinewidth\":0,\"ticks\":\"\"}}}],\"scatterpolar\":[{\"type\":\"scatterpolar\",\"marker\":{\"colorbar\":{\"outlinewidth\":0,\"ticks\":\"\"}}}],\"histogram\":[{\"marker\":{\"pattern\":{\"fillmode\":\"overlay\",\"size\":10,\"solidity\":0.2}},\"type\":\"histogram\"}],\"scattergl\":[{\"type\":\"scattergl\",\"marker\":{\"colorbar\":{\"outlinewidth\":0,\"ticks\":\"\"}}}],\"scatter3d\":[{\"type\":\"scatter3d\",\"line\":{\"colorbar\":{\"outlinewidth\":0,\"ticks\":\"\"}},\"marker\":{\"colorbar\":{\"outlinewidth\":0,\"ticks\":\"\"}}}],\"scattermapbox\":[{\"type\":\"scattermapbox\",\"marker\":{\"colorbar\":{\"outlinewidth\":0,\"ticks\":\"\"}}}],\"scatterternary\":[{\"type\":\"scatterternary\",\"marker\":{\"colorbar\":{\"outlinewidth\":0,\"ticks\":\"\"}}}],\"scattercarpet\":[{\"type\":\"scattercarpet\",\"marker\":{\"colorbar\":{\"outlinewidth\":0,\"ticks\":\"\"}}}],\"carpet\":[{\"aaxis\":{\"endlinecolor\":\"#2a3f5f\",\"gridcolor\":\"white\",\"linecolor\":\"white\",\"minorgridcolor\":\"white\",\"startlinecolor\":\"#2a3f5f\"},\"baxis\":{\"endlinecolor\":\"#2a3f5f\",\"gridcolor\":\"white\",\"linecolor\":\"white\",\"minorgridcolor\":\"white\",\"startlinecolor\":\"#2a3f5f\"},\"type\":\"carpet\"}],\"table\":[{\"cells\":{\"fill\":{\"color\":\"#EBF0F8\"},\"line\":{\"color\":\"white\"}},\"header\":{\"fill\":{\"color\":\"#C8D4E3\"},\"line\":{\"color\":\"white\"}},\"type\":\"table\"}],\"barpolar\":[{\"marker\":{\"line\":{\"color\":\"#E5ECF6\",\"width\":0.5},\"pattern\":{\"fillmode\":\"overlay\",\"size\":10,\"solidity\":0.2}},\"type\":\"barpolar\"}],\"pie\":[{\"automargin\":true,\"type\":\"pie\"}]},\"layout\":{\"autotypenumbers\":\"strict\",\"colorway\":[\"#636efa\",\"#EF553B\",\"#00cc96\",\"#ab63fa\",\"#FFA15A\",\"#19d3f3\",\"#FF6692\",\"#B6E880\",\"#FF97FF\",\"#FECB52\"],\"font\":{\"color\":\"#2a3f5f\"},\"hovermode\":\"closest\",\"hoverlabel\":{\"align\":\"left\"},\"paper_bgcolor\":\"white\",\"plot_bgcolor\":\"#E5ECF6\",\"polar\":{\"bgcolor\":\"#E5ECF6\",\"angularaxis\":{\"gridcolor\":\"white\",\"linecolor\":\"white\",\"ticks\":\"\"},\"radialaxis\":{\"gridcolor\":\"white\",\"linecolor\":\"white\",\"ticks\":\"\"}},\"ternary\":{\"bgcolor\":\"#E5ECF6\",\"aaxis\":{\"gridcolor\":\"white\",\"linecolor\":\"white\",\"ticks\":\"\"},\"baxis\":{\"gridcolor\":\"white\",\"linecolor\":\"white\",\"ticks\":\"\"},\"caxis\":{\"gridcolor\":\"white\",\"linecolor\":\"white\",\"ticks\":\"\"}},\"coloraxis\":{\"colorbar\":{\"outlinewidth\":0,\"ticks\":\"\"}},\"colorscale\":{\"sequential\":[[0.0,\"#0d0887\"],[0.1111111111111111,\"#46039f\"],[0.2222222222222222,\"#7201a8\"],[0.3333333333333333,\"#9c179e\"],[0.4444444444444444,\"#bd3786\"],[0.5555555555555556,\"#d8576b\"],[0.6666666666666666,\"#ed7953\"],[0.7777777777777778,\"#fb9f3a\"],[0.8888888888888888,\"#fdca26\"],[1.0,\"#f0f921\"]],\"sequentialminus\":[[0.0,\"#0d0887\"],[0.1111111111111111,\"#46039f\"],[0.2222222222222222,\"#7201a8\"],[0.3333333333333333,\"#9c179e\"],[0.4444444444444444,\"#bd3786\"],[0.5555555555555556,\"#d8576b\"],[0.6666666666666666,\"#ed7953\"],[0.7777777777777778,\"#fb9f3a\"],[0.8888888888888888,\"#fdca26\"],[1.0,\"#f0f921\"]],\"diverging\":[[0,\"#8e0152\"],[0.1,\"#c51b7d\"],[0.2,\"#de77ae\"],[0.3,\"#f1b6da\"],[0.4,\"#fde0ef\"],[0.5,\"#f7f7f7\"],[0.6,\"#e6f5d0\"],[0.7,\"#b8e186\"],[0.8,\"#7fbc41\"],[0.9,\"#4d9221\"],[1,\"#276419\"]]},\"xaxis\":{\"gridcolor\":\"white\",\"linecolor\":\"white\",\"ticks\":\"\",\"title\":{\"standoff\":15},\"zerolinecolor\":\"white\",\"automargin\":true,\"zerolinewidth\":2},\"yaxis\":{\"gridcolor\":\"white\",\"linecolor\":\"white\",\"ticks\":\"\",\"title\":{\"standoff\":15},\"zerolinecolor\":\"white\",\"automargin\":true,\"zerolinewidth\":2},\"scene\":{\"xaxis\":{\"backgroundcolor\":\"#E5ECF6\",\"gridcolor\":\"white\",\"linecolor\":\"white\",\"showbackground\":true,\"ticks\":\"\",\"zerolinecolor\":\"white\",\"gridwidth\":2},\"yaxis\":{\"backgroundcolor\":\"#E5ECF6\",\"gridcolor\":\"white\",\"linecolor\":\"white\",\"showbackground\":true,\"ticks\":\"\",\"zerolinecolor\":\"white\",\"gridwidth\":2},\"zaxis\":{\"backgroundcolor\":\"#E5ECF6\",\"gridcolor\":\"white\",\"linecolor\":\"white\",\"showbackground\":true,\"ticks\":\"\",\"zerolinecolor\":\"white\",\"gridwidth\":2}},\"shapedefaults\":{\"line\":{\"color\":\"#2a3f5f\"}},\"annotationdefaults\":{\"arrowcolor\":\"#2a3f5f\",\"arrowhead\":0,\"arrowwidth\":1},\"geo\":{\"bgcolor\":\"white\",\"landcolor\":\"#E5ECF6\",\"subunitcolor\":\"white\",\"showland\":true,\"showlakes\":true,\"lakecolor\":\"white\"},\"title\":{\"x\":0.05},\"mapbox\":{\"style\":\"light\"}}}},                        {\"responsive\": true}                    ).then(function(){\n",
              "                            \n",
              "var gd = document.getElementById('a66f908b-4855-4135-8b7d-e94e738c7496');\n",
              "var x = new MutationObserver(function (mutations, observer) {{\n",
              "        var display = window.getComputedStyle(gd).display;\n",
              "        if (!display || display === 'none') {{\n",
              "            console.log([gd, 'removed!']);\n",
              "            Plotly.purge(gd);\n",
              "            observer.disconnect();\n",
              "        }}\n",
              "}});\n",
              "\n",
              "// Listen for the removal of the full notebook cells\n",
              "var notebookContainer = gd.closest('#notebook-container');\n",
              "if (notebookContainer) {{\n",
              "    x.observe(notebookContainer, {childList: true});\n",
              "}}\n",
              "\n",
              "// Listen for the clearing of the current output cell\n",
              "var outputEl = gd.closest('.output');\n",
              "if (outputEl) {{\n",
              "    x.observe(outputEl, {childList: true});\n",
              "}}\n",
              "\n",
              "                        })                };                            </script>        </div>\n",
              "</body>\n",
              "</html>"
            ]
          },
          "metadata": {}
        }
      ]
    },
    {
      "cell_type": "code",
      "source": [
        "# 5. Gráficos Slice\n",
        "plot_slice(study)"
      ],
      "metadata": {
        "colab": {
          "base_uri": "https://localhost:8080/",
          "height": 562
        },
        "id": "NDbV38BEHtdS",
        "outputId": "c00ce4bb-5b9e-42c2-da51-31ca15aa7eae"
      },
      "execution_count": 90,
      "outputs": [
        {
          "output_type": "display_data",
          "data": {
            "text/html": [
              "<html>\n",
              "<head><meta charset=\"utf-8\" /></head>\n",
              "<body>\n",
              "    <div>            <script src=\"https://cdnjs.cloudflare.com/ajax/libs/mathjax/2.7.5/MathJax.js?config=TeX-AMS-MML_SVG\"></script><script type=\"text/javascript\">if (window.MathJax && window.MathJax.Hub && window.MathJax.Hub.Config) {window.MathJax.Hub.Config({SVG: {font: \"STIX-Web\"}});}</script>                <script type=\"text/javascript\">window.PlotlyConfig = {MathJaxConfig: 'local'};</script>\n",
              "        <script charset=\"utf-8\" src=\"https://cdn.plot.ly/plotly-2.35.2.min.js\"></script>                <div id=\"63fcf687-b319-44f2-ae48-aa63c318460e\" class=\"plotly-graph-div\" style=\"height:525px; width:4200px;\"></div>            <script type=\"text/javascript\">                                    window.PLOTLYENV=window.PLOTLYENV || {};                                    if (document.getElementById(\"63fcf687-b319-44f2-ae48-aa63c318460e\")) {                    Plotly.newPlot(                        \"63fcf687-b319-44f2-ae48-aa63c318460e\",                        [{\"marker\":{\"color\":[0,1,2,3,4,5,6,7,8,9,10,11,12,13,14,15,16,17,18,19,20,21,22,23,24,25,26,27,28,29,30,31,32,33,34,35,36,37,38,39,40,41,42,43,44,45,46,47,48,49],\"colorbar\":{\"title\":{\"text\":\"Trial\"},\"x\":1.0,\"xpad\":40},\"colorscale\":[[0.0,\"rgb(247,251,255)\"],[0.125,\"rgb(222,235,247)\"],[0.25,\"rgb(198,219,239)\"],[0.375,\"rgb(158,202,225)\"],[0.5,\"rgb(107,174,214)\"],[0.625,\"rgb(66,146,198)\"],[0.75,\"rgb(33,113,181)\"],[0.875,\"rgb(8,81,156)\"],[1.0,\"rgb(8,48,107)\"]],\"line\":{\"color\":\"Grey\",\"width\":0.5},\"showscale\":true},\"mode\":\"markers\",\"name\":\"Feasible Trial\",\"showlegend\":false,\"x\":[\"relu\",\"sigmoid\",\"relu\",\"sigmoid\",\"relu\",\"relu\",\"sigmoid\",\"relu\",\"sigmoid\",\"sigmoid\",\"sigmoid\",\"sigmoid\",\"sigmoid\",\"sigmoid\",\"sigmoid\",\"sigmoid\",\"sigmoid\",\"sigmoid\",\"sigmoid\",\"sigmoid\",\"sigmoid\",\"sigmoid\",\"sigmoid\",\"sigmoid\",\"sigmoid\",\"sigmoid\",\"relu\",\"sigmoid\",\"sigmoid\",\"relu\",\"sigmoid\",\"sigmoid\",\"sigmoid\",\"sigmoid\",\"sigmoid\",\"sigmoid\",\"relu\",\"sigmoid\",\"relu\",\"sigmoid\",\"sigmoid\",\"sigmoid\",\"sigmoid\",\"sigmoid\",\"sigmoid\",\"sigmoid\",\"relu\",\"relu\",\"relu\",\"relu\"],\"y\":[0.5534999966621399,0.6010000109672546,0.11500000208616257,0.7894999980926514,0.7680000066757202,0.4259999990463257,0.09149999916553497,0.3725000023841858,0.10350000113248825,0.09749999642372131,0.8454999923706055,0.8410000205039978,0.8485000133514404,0.8450000286102295,0.8245000243186951,0.6769999861717224,0.8414999842643738,0.8184999823570251,0.8514999747276306,0.8504999876022339,0.09300000220537186,0.8544999957084656,0.8420000076293945,0.8374999761581421,0.8370000123977661,0.7820000052452087,0.8374999761581421,0.5669999718666077,0.8190000057220459,0.5339999794960022,0.7940000295639038,0.8379999995231628,0.8495000004768372,0.8519999980926514,0.8025000095367432,0.7994999885559082,0.6980000138282776,0.840499997138977,0.6610000133514404,0.1850000023841858,0.8374999761581421,0.8479999899864197,0.8475000262260437,0.8485000133514404,0.8575000166893005,0.5669999718666077,0.8544999957084656,0.843500018119812,0.8600000143051147,0.8560000061988831],\"type\":\"scatter\",\"xaxis\":\"x\",\"yaxis\":\"y\"},{\"marker\":{\"color\":[0,1,2,4,5,6,7,8,13,14,16,18,19,20,21,22,23,24,25,26,27,28,29,30,32,33,34,35,36,37,38,39,40,41,42,43],\"colorbar\":{\"title\":{\"text\":\"Trial\"},\"x\":1.0,\"xpad\":40},\"colorscale\":[[0.0,\"rgb(247,251,255)\"],[0.125,\"rgb(222,235,247)\"],[0.25,\"rgb(198,219,239)\"],[0.375,\"rgb(158,202,225)\"],[0.5,\"rgb(107,174,214)\"],[0.625,\"rgb(66,146,198)\"],[0.75,\"rgb(33,113,181)\"],[0.875,\"rgb(8,81,156)\"],[1.0,\"rgb(8,48,107)\"]],\"line\":{\"color\":\"Grey\",\"width\":0.5},\"showscale\":false},\"mode\":\"markers\",\"name\":\"Feasible Trial\",\"showlegend\":false,\"x\":[\"sigmoid\",\"sigmoid\",\"sigmoid\",\"relu\",\"relu\",\"sigmoid\",\"sigmoid\",\"relu\",\"relu\",\"relu\",\"relu\",\"sigmoid\",\"sigmoid\",\"sigmoid\",\"sigmoid\",\"sigmoid\",\"sigmoid\",\"sigmoid\",\"sigmoid\",\"sigmoid\",\"sigmoid\",\"sigmoid\",\"sigmoid\",\"sigmoid\",\"sigmoid\",\"sigmoid\",\"sigmoid\",\"sigmoid\",\"sigmoid\",\"sigmoid\",\"sigmoid\",\"sigmoid\",\"sigmoid\",\"sigmoid\",\"sigmoid\",\"sigmoid\"],\"y\":[0.5534999966621399,0.6010000109672546,0.11500000208616257,0.7680000066757202,0.4259999990463257,0.09149999916553497,0.3725000023841858,0.10350000113248825,0.8450000286102295,0.8245000243186951,0.8414999842643738,0.8514999747276306,0.8504999876022339,0.09300000220537186,0.8544999957084656,0.8420000076293945,0.8374999761581421,0.8370000123977661,0.7820000052452087,0.8374999761581421,0.5669999718666077,0.8190000057220459,0.5339999794960022,0.7940000295639038,0.8495000004768372,0.8519999980926514,0.8025000095367432,0.7994999885559082,0.6980000138282776,0.840499997138977,0.6610000133514404,0.1850000023841858,0.8374999761581421,0.8479999899864197,0.8475000262260437,0.8485000133514404],\"type\":\"scatter\",\"xaxis\":\"x2\",\"yaxis\":\"y2\"},{\"marker\":{\"color\":[0,1,2,5,6,7,8,20,25,27,29,30,35,37,39],\"colorbar\":{\"title\":{\"text\":\"Trial\"},\"x\":1.0,\"xpad\":40},\"colorscale\":[[0.0,\"rgb(247,251,255)\"],[0.125,\"rgb(222,235,247)\"],[0.25,\"rgb(198,219,239)\"],[0.375,\"rgb(158,202,225)\"],[0.5,\"rgb(107,174,214)\"],[0.625,\"rgb(66,146,198)\"],[0.75,\"rgb(33,113,181)\"],[0.875,\"rgb(8,81,156)\"],[1.0,\"rgb(8,48,107)\"]],\"line\":{\"color\":\"Grey\",\"width\":0.5},\"showscale\":false},\"mode\":\"markers\",\"name\":\"Feasible Trial\",\"showlegend\":false,\"x\":[\"relu\",\"sigmoid\",\"sigmoid\",\"relu\",\"relu\",\"relu\",\"sigmoid\",\"sigmoid\",\"sigmoid\",\"relu\",\"sigmoid\",\"relu\",\"sigmoid\",\"relu\",\"relu\"],\"y\":[0.5534999966621399,0.6010000109672546,0.11500000208616257,0.4259999990463257,0.09149999916553497,0.3725000023841858,0.10350000113248825,0.09300000220537186,0.7820000052452087,0.5669999718666077,0.5339999794960022,0.7940000295639038,0.7994999885559082,0.840499997138977,0.1850000023841858],\"type\":\"scatter\",\"xaxis\":\"x3\",\"yaxis\":\"y3\"},{\"marker\":{\"color\":[2,7,8,20,25],\"colorbar\":{\"title\":{\"text\":\"Trial\"},\"x\":1.0,\"xpad\":40},\"colorscale\":[[0.0,\"rgb(247,251,255)\"],[0.125,\"rgb(222,235,247)\"],[0.25,\"rgb(198,219,239)\"],[0.375,\"rgb(158,202,225)\"],[0.5,\"rgb(107,174,214)\"],[0.625,\"rgb(66,146,198)\"],[0.75,\"rgb(33,113,181)\"],[0.875,\"rgb(8,81,156)\"],[1.0,\"rgb(8,48,107)\"]],\"line\":{\"color\":\"Grey\",\"width\":0.5},\"showscale\":false},\"mode\":\"markers\",\"name\":\"Feasible Trial\",\"showlegend\":false,\"x\":[\"relu\",\"sigmoid\",\"sigmoid\",\"relu\",\"relu\"],\"y\":[0.11500000208616257,0.3725000023841858,0.10350000113248825,0.09300000220537186,0.7820000052452087],\"type\":\"scatter\",\"xaxis\":\"x4\",\"yaxis\":\"y4\"},{\"marker\":{\"color\":[2,8],\"colorbar\":{\"title\":{\"text\":\"Trial\"},\"x\":1.0,\"xpad\":40},\"colorscale\":[[0.0,\"rgb(247,251,255)\"],[0.125,\"rgb(222,235,247)\"],[0.25,\"rgb(198,219,239)\"],[0.375,\"rgb(158,202,225)\"],[0.5,\"rgb(107,174,214)\"],[0.625,\"rgb(66,146,198)\"],[0.75,\"rgb(33,113,181)\"],[0.875,\"rgb(8,81,156)\"],[1.0,\"rgb(8,48,107)\"]],\"line\":{\"color\":\"Grey\",\"width\":0.5},\"showscale\":false},\"mode\":\"markers\",\"name\":\"Feasible Trial\",\"showlegend\":false,\"x\":[\"relu\",\"relu\"],\"y\":[0.11500000208616257,0.10350000113248825],\"type\":\"scatter\",\"xaxis\":\"x5\",\"yaxis\":\"y5\"},{\"marker\":{\"color\":[0,1,2,3,4,5,6,7,8,9,10,11,12,13,14,15,16,17,18,19,20,21,22,23,24,25,26,27,28,29,30,31,32,33,34,35,36,37,38,39,40,41,42,43,44,45,46,47,48,49],\"colorbar\":{\"title\":{\"text\":\"Trial\"},\"x\":1.0,\"xpad\":40},\"colorscale\":[[0.0,\"rgb(247,251,255)\"],[0.125,\"rgb(222,235,247)\"],[0.25,\"rgb(198,219,239)\"],[0.375,\"rgb(158,202,225)\"],[0.5,\"rgb(107,174,214)\"],[0.625,\"rgb(66,146,198)\"],[0.75,\"rgb(33,113,181)\"],[0.875,\"rgb(8,81,156)\"],[1.0,\"rgb(8,48,107)\"]],\"line\":{\"color\":\"Grey\",\"width\":0.5},\"showscale\":false},\"mode\":\"markers\",\"name\":\"Feasible Trial\",\"showlegend\":false,\"x\":[6,18,16,26,25,12,16,14,22,5,30,30,30,30,26,22,30,23,27,19,9,27,19,27,20,24,28,21,28,9,24,28,28,25,18,24,25,26,16,14,20,27,28,25,27,22,26,26,29,29],\"y\":[0.5534999966621399,0.6010000109672546,0.11500000208616257,0.7894999980926514,0.7680000066757202,0.4259999990463257,0.09149999916553497,0.3725000023841858,0.10350000113248825,0.09749999642372131,0.8454999923706055,0.8410000205039978,0.8485000133514404,0.8450000286102295,0.8245000243186951,0.6769999861717224,0.8414999842643738,0.8184999823570251,0.8514999747276306,0.8504999876022339,0.09300000220537186,0.8544999957084656,0.8420000076293945,0.8374999761581421,0.8370000123977661,0.7820000052452087,0.8374999761581421,0.5669999718666077,0.8190000057220459,0.5339999794960022,0.7940000295639038,0.8379999995231628,0.8495000004768372,0.8519999980926514,0.8025000095367432,0.7994999885559082,0.6980000138282776,0.840499997138977,0.6610000133514404,0.1850000023841858,0.8374999761581421,0.8479999899864197,0.8475000262260437,0.8485000133514404,0.8575000166893005,0.5669999718666077,0.8544999957084656,0.843500018119812,0.8600000143051147,0.8560000061988831],\"type\":\"scatter\",\"xaxis\":\"x6\",\"yaxis\":\"y6\"},{\"marker\":{\"color\":[0,1,2,3,4,5,6,7,8,9,10,11,12,13,14,15,16,17,18,19,20,21,22,23,24,25,26,27,28,29,30,31,32,33,34,35,36,37,38,39,40,41,42,43,44,45,46,47,48,49],\"colorbar\":{\"title\":{\"text\":\"Trial\"},\"x\":1.0,\"xpad\":40},\"colorscale\":[[0.0,\"rgb(247,251,255)\"],[0.125,\"rgb(222,235,247)\"],[0.25,\"rgb(198,219,239)\"],[0.375,\"rgb(158,202,225)\"],[0.5,\"rgb(107,174,214)\"],[0.625,\"rgb(66,146,198)\"],[0.75,\"rgb(33,113,181)\"],[0.875,\"rgb(8,81,156)\"],[1.0,\"rgb(8,48,107)\"]],\"line\":{\"color\":\"Grey\",\"width\":0.5},\"showscale\":false},\"mode\":\"markers\",\"name\":\"Feasible Trial\",\"showlegend\":false,\"x\":[0.011596241103150683,0.00012530197534100262,3.8710827642131336e-05,8.30607514180888e-05,0.002438268992158287,0.009905950216946915,6.357322916522396e-05,1.2263638106340946e-05,0.01211267124196693,6.729571745644979e-05,0.0005464600121244714,0.0004868758802808869,0.000642620009907291,0.0010072297004842144,0.0005052408185573944,0.08144263130370927,0.0024469913886628054,0.0002636276901749259,0.0022834832937260055,0.0032077038717423447,0.03399715391385452,0.0023089423537502414,0.0020051290506108484,0.005887642081704168,0.005404962073584575,0.001402758183856086,0.003989298934522288,0.023257848469513436,0.00020947120851167364,0.012140935688561233,0.003413186396687941,0.0008425837302051828,0.0013740053961579831,0.0013966442880989026,0.00025212931227047263,0.006632298018079563,0.0021730217223732366,0.001396252047711245,0.021769461634573842,0.008310621566445645,0.003930603158972914,0.001149501187502298,0.001770312302498647,0.0035548363583465157,0.0008989455875414375,0.0003626909640279266,0.0006505050104033976,0.00015079443997624253,0.000850193884583163,0.0007338217235869363],\"y\":[0.5534999966621399,0.6010000109672546,0.11500000208616257,0.7894999980926514,0.7680000066757202,0.4259999990463257,0.09149999916553497,0.3725000023841858,0.10350000113248825,0.09749999642372131,0.8454999923706055,0.8410000205039978,0.8485000133514404,0.8450000286102295,0.8245000243186951,0.6769999861717224,0.8414999842643738,0.8184999823570251,0.8514999747276306,0.8504999876022339,0.09300000220537186,0.8544999957084656,0.8420000076293945,0.8374999761581421,0.8370000123977661,0.7820000052452087,0.8374999761581421,0.5669999718666077,0.8190000057220459,0.5339999794960022,0.7940000295639038,0.8379999995231628,0.8495000004768372,0.8519999980926514,0.8025000095367432,0.7994999885559082,0.6980000138282776,0.840499997138977,0.6610000133514404,0.1850000023841858,0.8374999761581421,0.8479999899864197,0.8475000262260437,0.8485000133514404,0.8575000166893005,0.5669999718666077,0.8544999957084656,0.843500018119812,0.8600000143051147,0.8560000061988831],\"type\":\"scatter\",\"xaxis\":\"x7\",\"yaxis\":\"y7\"},{\"marker\":{\"color\":[0,1,2,3,4,5,6,7,8,9,10,11,12,13,14,15,16,17,18,19,20,21,22,23,24,25,26,27,28,29,30,31,32,33,34,35,36,37,38,39,40,41,42,43,44,45,46,47,48,49],\"colorbar\":{\"title\":{\"text\":\"Trial\"},\"x\":1.0,\"xpad\":40},\"colorscale\":[[0.0,\"rgb(247,251,255)\"],[0.125,\"rgb(222,235,247)\"],[0.25,\"rgb(198,219,239)\"],[0.375,\"rgb(158,202,225)\"],[0.5,\"rgb(107,174,214)\"],[0.625,\"rgb(66,146,198)\"],[0.75,\"rgb(33,113,181)\"],[0.875,\"rgb(8,81,156)\"],[1.0,\"rgb(8,48,107)\"]],\"line\":{\"color\":\"Grey\",\"width\":0.5},\"showscale\":false},\"mode\":\"markers\",\"name\":\"Feasible Trial\",\"showlegend\":false,\"x\":[3,3,5,1,2,3,3,4,5,1,1,1,1,2,2,1,2,1,2,2,4,2,2,2,2,4,2,3,2,3,3,1,2,2,2,3,2,3,2,3,2,2,2,2,1,1,1,1,1,1],\"y\":[0.5534999966621399,0.6010000109672546,0.11500000208616257,0.7894999980926514,0.7680000066757202,0.4259999990463257,0.09149999916553497,0.3725000023841858,0.10350000113248825,0.09749999642372131,0.8454999923706055,0.8410000205039978,0.8485000133514404,0.8450000286102295,0.8245000243186951,0.6769999861717224,0.8414999842643738,0.8184999823570251,0.8514999747276306,0.8504999876022339,0.09300000220537186,0.8544999957084656,0.8420000076293945,0.8374999761581421,0.8370000123977661,0.7820000052452087,0.8374999761581421,0.5669999718666077,0.8190000057220459,0.5339999794960022,0.7940000295639038,0.8379999995231628,0.8495000004768372,0.8519999980926514,0.8025000095367432,0.7994999885559082,0.6980000138282776,0.840499997138977,0.6610000133514404,0.1850000023841858,0.8374999761581421,0.8479999899864197,0.8475000262260437,0.8485000133514404,0.8575000166893005,0.5669999718666077,0.8544999957084656,0.843500018119812,0.8600000143051147,0.8560000061988831],\"type\":\"scatter\",\"xaxis\":\"x8\",\"yaxis\":\"y8\"},{\"marker\":{\"color\":[0,1,2,3,4,5,6,7,8,9,10,11,12,13,14,15,16,17,18,19,20,21,22,23,24,25,26,27,28,29,30,31,32,33,34,35,36,37,38,39,40,41,42,43,44,45,46,47,48,49],\"colorbar\":{\"title\":{\"text\":\"Trial\"},\"x\":1.0,\"xpad\":40},\"colorscale\":[[0.0,\"rgb(247,251,255)\"],[0.125,\"rgb(222,235,247)\"],[0.25,\"rgb(198,219,239)\"],[0.375,\"rgb(158,202,225)\"],[0.5,\"rgb(107,174,214)\"],[0.625,\"rgb(66,146,198)\"],[0.75,\"rgb(33,113,181)\"],[0.875,\"rgb(8,81,156)\"],[1.0,\"rgb(8,48,107)\"]],\"line\":{\"color\":\"Grey\",\"width\":0.5},\"showscale\":false},\"mode\":\"markers\",\"name\":\"Feasible Trial\",\"showlegend\":false,\"x\":[\"sgd\",\"adam\",\"sgd\",\"adam\",\"sgd\",\"adam\",\"sgd\",\"adam\",\"sgd\",\"sgd\",\"adam\",\"adam\",\"adam\",\"adam\",\"adam\",\"adam\",\"adam\",\"adam\",\"adam\",\"adam\",\"adam\",\"adam\",\"adam\",\"adam\",\"adam\",\"adam\",\"adam\",\"adam\",\"adam\",\"sgd\",\"adam\",\"adam\",\"adam\",\"adam\",\"adam\",\"adam\",\"sgd\",\"adam\",\"adam\",\"sgd\",\"adam\",\"adam\",\"adam\",\"adam\",\"adam\",\"sgd\",\"adam\",\"adam\",\"adam\",\"adam\"],\"y\":[0.5534999966621399,0.6010000109672546,0.11500000208616257,0.7894999980926514,0.7680000066757202,0.4259999990463257,0.09149999916553497,0.3725000023841858,0.10350000113248825,0.09749999642372131,0.8454999923706055,0.8410000205039978,0.8485000133514404,0.8450000286102295,0.8245000243186951,0.6769999861717224,0.8414999842643738,0.8184999823570251,0.8514999747276306,0.8504999876022339,0.09300000220537186,0.8544999957084656,0.8420000076293945,0.8374999761581421,0.8370000123977661,0.7820000052452087,0.8374999761581421,0.5669999718666077,0.8190000057220459,0.5339999794960022,0.7940000295639038,0.8379999995231628,0.8495000004768372,0.8519999980926514,0.8025000095367432,0.7994999885559082,0.6980000138282776,0.840499997138977,0.6610000133514404,0.1850000023841858,0.8374999761581421,0.8479999899864197,0.8475000262260437,0.8485000133514404,0.8575000166893005,0.5669999718666077,0.8544999957084656,0.843500018119812,0.8600000143051147,0.8560000061988831],\"type\":\"scatter\",\"xaxis\":\"x9\",\"yaxis\":\"y9\"},{\"marker\":{\"color\":[0,1,2,3,4,5,6,7,8,9,10,11,12,13,14,15,16,17,18,19,20,21,22,23,24,25,26,27,28,29,30,31,32,33,34,35,36,37,38,39,40,41,42,43,44,45,46,47,48,49],\"colorbar\":{\"title\":{\"text\":\"Trial\"},\"x\":1.0,\"xpad\":40},\"colorscale\":[[0.0,\"rgb(247,251,255)\"],[0.125,\"rgb(222,235,247)\"],[0.25,\"rgb(198,219,239)\"],[0.375,\"rgb(158,202,225)\"],[0.5,\"rgb(107,174,214)\"],[0.625,\"rgb(66,146,198)\"],[0.75,\"rgb(33,113,181)\"],[0.875,\"rgb(8,81,156)\"],[1.0,\"rgb(8,48,107)\"]],\"line\":{\"color\":\"Grey\",\"width\":0.5},\"showscale\":false},\"mode\":\"markers\",\"name\":\"Feasible Trial\",\"showlegend\":false,\"x\":[48,101,41,44,117,85,46,97,87,73,66,61,67,64,63,72,32,56,76,126,127,97,108,121,97,81,109,90,113,127,75,52,93,94,104,80,102,120,84,94,112,90,95,78,90,101,85,86,71,70],\"y\":[0.5534999966621399,0.6010000109672546,0.11500000208616257,0.7894999980926514,0.7680000066757202,0.4259999990463257,0.09149999916553497,0.3725000023841858,0.10350000113248825,0.09749999642372131,0.8454999923706055,0.8410000205039978,0.8485000133514404,0.8450000286102295,0.8245000243186951,0.6769999861717224,0.8414999842643738,0.8184999823570251,0.8514999747276306,0.8504999876022339,0.09300000220537186,0.8544999957084656,0.8420000076293945,0.8374999761581421,0.8370000123977661,0.7820000052452087,0.8374999761581421,0.5669999718666077,0.8190000057220459,0.5339999794960022,0.7940000295639038,0.8379999995231628,0.8495000004768372,0.8519999980926514,0.8025000095367432,0.7994999885559082,0.6980000138282776,0.840499997138977,0.6610000133514404,0.1850000023841858,0.8374999761581421,0.8479999899864197,0.8475000262260437,0.8485000133514404,0.8575000166893005,0.5669999718666077,0.8544999957084656,0.843500018119812,0.8600000143051147,0.8560000061988831],\"type\":\"scatter\",\"xaxis\":\"x10\",\"yaxis\":\"y10\"},{\"marker\":{\"color\":[0,1,2,4,5,6,7,8,13,14,16,18,19,20,21,22,23,24,25,26,27,28,29,30,32,33,34,35,36,37,38,39,40,41,42,43],\"colorbar\":{\"title\":{\"text\":\"Trial\"},\"x\":1.0,\"xpad\":40},\"colorscale\":[[0.0,\"rgb(247,251,255)\"],[0.125,\"rgb(222,235,247)\"],[0.25,\"rgb(198,219,239)\"],[0.375,\"rgb(158,202,225)\"],[0.5,\"rgb(107,174,214)\"],[0.625,\"rgb(66,146,198)\"],[0.75,\"rgb(33,113,181)\"],[0.875,\"rgb(8,81,156)\"],[1.0,\"rgb(8,48,107)\"]],\"line\":{\"color\":\"Grey\",\"width\":0.5},\"showscale\":false},\"mode\":\"markers\",\"name\":\"Feasible Trial\",\"showlegend\":false,\"x\":[61,100,54,51,70,73,91,54,124,33,125,109,105,106,111,111,89,113,97,112,84,119,103,95,119,116,107,128,118,104,115,82,109,118,123,98],\"y\":[0.5534999966621399,0.6010000109672546,0.11500000208616257,0.7680000066757202,0.4259999990463257,0.09149999916553497,0.3725000023841858,0.10350000113248825,0.8450000286102295,0.8245000243186951,0.8414999842643738,0.8514999747276306,0.8504999876022339,0.09300000220537186,0.8544999957084656,0.8420000076293945,0.8374999761581421,0.8370000123977661,0.7820000052452087,0.8374999761581421,0.5669999718666077,0.8190000057220459,0.5339999794960022,0.7940000295639038,0.8495000004768372,0.8519999980926514,0.8025000095367432,0.7994999885559082,0.6980000138282776,0.840499997138977,0.6610000133514404,0.1850000023841858,0.8374999761581421,0.8479999899864197,0.8475000262260437,0.8485000133514404],\"type\":\"scatter\",\"xaxis\":\"x11\",\"yaxis\":\"y11\"},{\"marker\":{\"color\":[0,1,2,5,6,7,8,20,25,27,29,30,35,37,39],\"colorbar\":{\"title\":{\"text\":\"Trial\"},\"x\":1.0,\"xpad\":40},\"colorscale\":[[0.0,\"rgb(247,251,255)\"],[0.125,\"rgb(222,235,247)\"],[0.25,\"rgb(198,219,239)\"],[0.375,\"rgb(158,202,225)\"],[0.5,\"rgb(107,174,214)\"],[0.625,\"rgb(66,146,198)\"],[0.75,\"rgb(33,113,181)\"],[0.875,\"rgb(8,81,156)\"],[1.0,\"rgb(8,48,107)\"]],\"line\":{\"color\":\"Grey\",\"width\":0.5},\"showscale\":false},\"mode\":\"markers\",\"name\":\"Feasible Trial\",\"showlegend\":false,\"x\":[105,69,64,118,82,56,46,33,90,125,103,34,90,110,75],\"y\":[0.5534999966621399,0.6010000109672546,0.11500000208616257,0.4259999990463257,0.09149999916553497,0.3725000023841858,0.10350000113248825,0.09300000220537186,0.7820000052452087,0.5669999718666077,0.5339999794960022,0.7940000295639038,0.7994999885559082,0.840499997138977,0.1850000023841858],\"type\":\"scatter\",\"xaxis\":\"x12\",\"yaxis\":\"y12\"},{\"marker\":{\"color\":[2,7,8,20,25],\"colorbar\":{\"title\":{\"text\":\"Trial\"},\"x\":1.0,\"xpad\":40},\"colorscale\":[[0.0,\"rgb(247,251,255)\"],[0.125,\"rgb(222,235,247)\"],[0.25,\"rgb(198,219,239)\"],[0.375,\"rgb(158,202,225)\"],[0.5,\"rgb(107,174,214)\"],[0.625,\"rgb(66,146,198)\"],[0.75,\"rgb(33,113,181)\"],[0.875,\"rgb(8,81,156)\"],[1.0,\"rgb(8,48,107)\"]],\"line\":{\"color\":\"Grey\",\"width\":0.5},\"showscale\":false},\"mode\":\"markers\",\"name\":\"Feasible Trial\",\"showlegend\":false,\"x\":[111,54,89,36,119],\"y\":[0.11500000208616257,0.3725000023841858,0.10350000113248825,0.09300000220537186,0.7820000052452087],\"type\":\"scatter\",\"xaxis\":\"x13\",\"yaxis\":\"y13\"},{\"marker\":{\"color\":[2,8],\"colorbar\":{\"title\":{\"text\":\"Trial\"},\"x\":1.0,\"xpad\":40},\"colorscale\":[[0.0,\"rgb(247,251,255)\"],[0.125,\"rgb(222,235,247)\"],[0.25,\"rgb(198,219,239)\"],[0.375,\"rgb(158,202,225)\"],[0.5,\"rgb(107,174,214)\"],[0.625,\"rgb(66,146,198)\"],[0.75,\"rgb(33,113,181)\"],[0.875,\"rgb(8,81,156)\"],[1.0,\"rgb(8,48,107)\"]],\"line\":{\"color\":\"Grey\",\"width\":0.5},\"showscale\":false},\"mode\":\"markers\",\"name\":\"Feasible Trial\",\"showlegend\":false,\"x\":[34,119],\"y\":[0.11500000208616257,0.10350000113248825],\"type\":\"scatter\",\"xaxis\":\"x14\",\"yaxis\":\"y14\"}],                        {\"template\":{\"data\":{\"histogram2dcontour\":[{\"type\":\"histogram2dcontour\",\"colorbar\":{\"outlinewidth\":0,\"ticks\":\"\"},\"colorscale\":[[0.0,\"#0d0887\"],[0.1111111111111111,\"#46039f\"],[0.2222222222222222,\"#7201a8\"],[0.3333333333333333,\"#9c179e\"],[0.4444444444444444,\"#bd3786\"],[0.5555555555555556,\"#d8576b\"],[0.6666666666666666,\"#ed7953\"],[0.7777777777777778,\"#fb9f3a\"],[0.8888888888888888,\"#fdca26\"],[1.0,\"#f0f921\"]]}],\"choropleth\":[{\"type\":\"choropleth\",\"colorbar\":{\"outlinewidth\":0,\"ticks\":\"\"}}],\"histogram2d\":[{\"type\":\"histogram2d\",\"colorbar\":{\"outlinewidth\":0,\"ticks\":\"\"},\"colorscale\":[[0.0,\"#0d0887\"],[0.1111111111111111,\"#46039f\"],[0.2222222222222222,\"#7201a8\"],[0.3333333333333333,\"#9c179e\"],[0.4444444444444444,\"#bd3786\"],[0.5555555555555556,\"#d8576b\"],[0.6666666666666666,\"#ed7953\"],[0.7777777777777778,\"#fb9f3a\"],[0.8888888888888888,\"#fdca26\"],[1.0,\"#f0f921\"]]}],\"heatmap\":[{\"type\":\"heatmap\",\"colorbar\":{\"outlinewidth\":0,\"ticks\":\"\"},\"colorscale\":[[0.0,\"#0d0887\"],[0.1111111111111111,\"#46039f\"],[0.2222222222222222,\"#7201a8\"],[0.3333333333333333,\"#9c179e\"],[0.4444444444444444,\"#bd3786\"],[0.5555555555555556,\"#d8576b\"],[0.6666666666666666,\"#ed7953\"],[0.7777777777777778,\"#fb9f3a\"],[0.8888888888888888,\"#fdca26\"],[1.0,\"#f0f921\"]]}],\"heatmapgl\":[{\"type\":\"heatmapgl\",\"colorbar\":{\"outlinewidth\":0,\"ticks\":\"\"},\"colorscale\":[[0.0,\"#0d0887\"],[0.1111111111111111,\"#46039f\"],[0.2222222222222222,\"#7201a8\"],[0.3333333333333333,\"#9c179e\"],[0.4444444444444444,\"#bd3786\"],[0.5555555555555556,\"#d8576b\"],[0.6666666666666666,\"#ed7953\"],[0.7777777777777778,\"#fb9f3a\"],[0.8888888888888888,\"#fdca26\"],[1.0,\"#f0f921\"]]}],\"contourcarpet\":[{\"type\":\"contourcarpet\",\"colorbar\":{\"outlinewidth\":0,\"ticks\":\"\"}}],\"contour\":[{\"type\":\"contour\",\"colorbar\":{\"outlinewidth\":0,\"ticks\":\"\"},\"colorscale\":[[0.0,\"#0d0887\"],[0.1111111111111111,\"#46039f\"],[0.2222222222222222,\"#7201a8\"],[0.3333333333333333,\"#9c179e\"],[0.4444444444444444,\"#bd3786\"],[0.5555555555555556,\"#d8576b\"],[0.6666666666666666,\"#ed7953\"],[0.7777777777777778,\"#fb9f3a\"],[0.8888888888888888,\"#fdca26\"],[1.0,\"#f0f921\"]]}],\"surface\":[{\"type\":\"surface\",\"colorbar\":{\"outlinewidth\":0,\"ticks\":\"\"},\"colorscale\":[[0.0,\"#0d0887\"],[0.1111111111111111,\"#46039f\"],[0.2222222222222222,\"#7201a8\"],[0.3333333333333333,\"#9c179e\"],[0.4444444444444444,\"#bd3786\"],[0.5555555555555556,\"#d8576b\"],[0.6666666666666666,\"#ed7953\"],[0.7777777777777778,\"#fb9f3a\"],[0.8888888888888888,\"#fdca26\"],[1.0,\"#f0f921\"]]}],\"mesh3d\":[{\"type\":\"mesh3d\",\"colorbar\":{\"outlinewidth\":0,\"ticks\":\"\"}}],\"scatter\":[{\"fillpattern\":{\"fillmode\":\"overlay\",\"size\":10,\"solidity\":0.2},\"type\":\"scatter\"}],\"parcoords\":[{\"type\":\"parcoords\",\"line\":{\"colorbar\":{\"outlinewidth\":0,\"ticks\":\"\"}}}],\"scatterpolargl\":[{\"type\":\"scatterpolargl\",\"marker\":{\"colorbar\":{\"outlinewidth\":0,\"ticks\":\"\"}}}],\"bar\":[{\"error_x\":{\"color\":\"#2a3f5f\"},\"error_y\":{\"color\":\"#2a3f5f\"},\"marker\":{\"line\":{\"color\":\"#E5ECF6\",\"width\":0.5},\"pattern\":{\"fillmode\":\"overlay\",\"size\":10,\"solidity\":0.2}},\"type\":\"bar\"}],\"scattergeo\":[{\"type\":\"scattergeo\",\"marker\":{\"colorbar\":{\"outlinewidth\":0,\"ticks\":\"\"}}}],\"scatterpolar\":[{\"type\":\"scatterpolar\",\"marker\":{\"colorbar\":{\"outlinewidth\":0,\"ticks\":\"\"}}}],\"histogram\":[{\"marker\":{\"pattern\":{\"fillmode\":\"overlay\",\"size\":10,\"solidity\":0.2}},\"type\":\"histogram\"}],\"scattergl\":[{\"type\":\"scattergl\",\"marker\":{\"colorbar\":{\"outlinewidth\":0,\"ticks\":\"\"}}}],\"scatter3d\":[{\"type\":\"scatter3d\",\"line\":{\"colorbar\":{\"outlinewidth\":0,\"ticks\":\"\"}},\"marker\":{\"colorbar\":{\"outlinewidth\":0,\"ticks\":\"\"}}}],\"scattermapbox\":[{\"type\":\"scattermapbox\",\"marker\":{\"colorbar\":{\"outlinewidth\":0,\"ticks\":\"\"}}}],\"scatterternary\":[{\"type\":\"scatterternary\",\"marker\":{\"colorbar\":{\"outlinewidth\":0,\"ticks\":\"\"}}}],\"scattercarpet\":[{\"type\":\"scattercarpet\",\"marker\":{\"colorbar\":{\"outlinewidth\":0,\"ticks\":\"\"}}}],\"carpet\":[{\"aaxis\":{\"endlinecolor\":\"#2a3f5f\",\"gridcolor\":\"white\",\"linecolor\":\"white\",\"minorgridcolor\":\"white\",\"startlinecolor\":\"#2a3f5f\"},\"baxis\":{\"endlinecolor\":\"#2a3f5f\",\"gridcolor\":\"white\",\"linecolor\":\"white\",\"minorgridcolor\":\"white\",\"startlinecolor\":\"#2a3f5f\"},\"type\":\"carpet\"}],\"table\":[{\"cells\":{\"fill\":{\"color\":\"#EBF0F8\"},\"line\":{\"color\":\"white\"}},\"header\":{\"fill\":{\"color\":\"#C8D4E3\"},\"line\":{\"color\":\"white\"}},\"type\":\"table\"}],\"barpolar\":[{\"marker\":{\"line\":{\"color\":\"#E5ECF6\",\"width\":0.5},\"pattern\":{\"fillmode\":\"overlay\",\"size\":10,\"solidity\":0.2}},\"type\":\"barpolar\"}],\"pie\":[{\"automargin\":true,\"type\":\"pie\"}]},\"layout\":{\"autotypenumbers\":\"strict\",\"colorway\":[\"#636efa\",\"#EF553B\",\"#00cc96\",\"#ab63fa\",\"#FFA15A\",\"#19d3f3\",\"#FF6692\",\"#B6E880\",\"#FF97FF\",\"#FECB52\"],\"font\":{\"color\":\"#2a3f5f\"},\"hovermode\":\"closest\",\"hoverlabel\":{\"align\":\"left\"},\"paper_bgcolor\":\"white\",\"plot_bgcolor\":\"#E5ECF6\",\"polar\":{\"bgcolor\":\"#E5ECF6\",\"angularaxis\":{\"gridcolor\":\"white\",\"linecolor\":\"white\",\"ticks\":\"\"},\"radialaxis\":{\"gridcolor\":\"white\",\"linecolor\":\"white\",\"ticks\":\"\"}},\"ternary\":{\"bgcolor\":\"#E5ECF6\",\"aaxis\":{\"gridcolor\":\"white\",\"linecolor\":\"white\",\"ticks\":\"\"},\"baxis\":{\"gridcolor\":\"white\",\"linecolor\":\"white\",\"ticks\":\"\"},\"caxis\":{\"gridcolor\":\"white\",\"linecolor\":\"white\",\"ticks\":\"\"}},\"coloraxis\":{\"colorbar\":{\"outlinewidth\":0,\"ticks\":\"\"}},\"colorscale\":{\"sequential\":[[0.0,\"#0d0887\"],[0.1111111111111111,\"#46039f\"],[0.2222222222222222,\"#7201a8\"],[0.3333333333333333,\"#9c179e\"],[0.4444444444444444,\"#bd3786\"],[0.5555555555555556,\"#d8576b\"],[0.6666666666666666,\"#ed7953\"],[0.7777777777777778,\"#fb9f3a\"],[0.8888888888888888,\"#fdca26\"],[1.0,\"#f0f921\"]],\"sequentialminus\":[[0.0,\"#0d0887\"],[0.1111111111111111,\"#46039f\"],[0.2222222222222222,\"#7201a8\"],[0.3333333333333333,\"#9c179e\"],[0.4444444444444444,\"#bd3786\"],[0.5555555555555556,\"#d8576b\"],[0.6666666666666666,\"#ed7953\"],[0.7777777777777778,\"#fb9f3a\"],[0.8888888888888888,\"#fdca26\"],[1.0,\"#f0f921\"]],\"diverging\":[[0,\"#8e0152\"],[0.1,\"#c51b7d\"],[0.2,\"#de77ae\"],[0.3,\"#f1b6da\"],[0.4,\"#fde0ef\"],[0.5,\"#f7f7f7\"],[0.6,\"#e6f5d0\"],[0.7,\"#b8e186\"],[0.8,\"#7fbc41\"],[0.9,\"#4d9221\"],[1,\"#276419\"]]},\"xaxis\":{\"gridcolor\":\"white\",\"linecolor\":\"white\",\"ticks\":\"\",\"title\":{\"standoff\":15},\"zerolinecolor\":\"white\",\"automargin\":true,\"zerolinewidth\":2},\"yaxis\":{\"gridcolor\":\"white\",\"linecolor\":\"white\",\"ticks\":\"\",\"title\":{\"standoff\":15},\"zerolinecolor\":\"white\",\"automargin\":true,\"zerolinewidth\":2},\"scene\":{\"xaxis\":{\"backgroundcolor\":\"#E5ECF6\",\"gridcolor\":\"white\",\"linecolor\":\"white\",\"showbackground\":true,\"ticks\":\"\",\"zerolinecolor\":\"white\",\"gridwidth\":2},\"yaxis\":{\"backgroundcolor\":\"#E5ECF6\",\"gridcolor\":\"white\",\"linecolor\":\"white\",\"showbackground\":true,\"ticks\":\"\",\"zerolinecolor\":\"white\",\"gridwidth\":2},\"zaxis\":{\"backgroundcolor\":\"#E5ECF6\",\"gridcolor\":\"white\",\"linecolor\":\"white\",\"showbackground\":true,\"ticks\":\"\",\"zerolinecolor\":\"white\",\"gridwidth\":2}},\"shapedefaults\":{\"line\":{\"color\":\"#2a3f5f\"}},\"annotationdefaults\":{\"arrowcolor\":\"#2a3f5f\",\"arrowhead\":0,\"arrowwidth\":1},\"geo\":{\"bgcolor\":\"white\",\"landcolor\":\"#E5ECF6\",\"subunitcolor\":\"white\",\"showland\":true,\"showlakes\":true,\"lakecolor\":\"white\"},\"title\":{\"x\":0.05},\"mapbox\":{\"style\":\"light\"}}},\"xaxis\":{\"anchor\":\"y\",\"domain\":[0.0,0.058163265306122446],\"title\":{\"text\":\"activation_0\"},\"type\":\"category\",\"categoryorder\":\"array\",\"categoryarray\":[\"relu\",\"sigmoid\"]},\"yaxis\":{\"anchor\":\"x\",\"domain\":[0.0,1.0],\"title\":{\"text\":\"Objective Value\"}},\"xaxis2\":{\"anchor\":\"y2\",\"domain\":[0.07244897959183673,0.13061224489795917],\"title\":{\"text\":\"activation_1\"},\"type\":\"category\",\"categoryorder\":\"array\",\"categoryarray\":[\"relu\",\"sigmoid\"]},\"yaxis2\":{\"anchor\":\"x2\",\"domain\":[0.0,1.0],\"matches\":\"y\",\"showticklabels\":false},\"xaxis3\":{\"anchor\":\"y3\",\"domain\":[0.14489795918367346,0.2030612244897959],\"title\":{\"text\":\"activation_2\"},\"type\":\"category\",\"categoryorder\":\"array\",\"categoryarray\":[\"relu\",\"sigmoid\"]},\"yaxis3\":{\"anchor\":\"x3\",\"domain\":[0.0,1.0],\"matches\":\"y\",\"showticklabels\":false},\"xaxis4\":{\"anchor\":\"y4\",\"domain\":[0.2173469387755102,0.2755102040816326],\"title\":{\"text\":\"activation_3\"},\"type\":\"category\",\"categoryorder\":\"array\",\"categoryarray\":[\"relu\",\"sigmoid\"]},\"yaxis4\":{\"anchor\":\"x4\",\"domain\":[0.0,1.0],\"matches\":\"y\",\"showticklabels\":false},\"xaxis5\":{\"anchor\":\"y5\",\"domain\":[0.2897959183673469,0.34795918367346934],\"title\":{\"text\":\"activation_4\"},\"type\":\"category\",\"categoryorder\":\"array\",\"categoryarray\":[\"relu\",\"sigmoid\"]},\"yaxis5\":{\"anchor\":\"x5\",\"domain\":[0.0,1.0],\"matches\":\"y\",\"showticklabels\":false},\"xaxis6\":{\"anchor\":\"y6\",\"domain\":[0.3622448979591837,0.4204081632653061],\"title\":{\"text\":\"epochs\"}},\"yaxis6\":{\"anchor\":\"x6\",\"domain\":[0.0,1.0],\"matches\":\"y\",\"showticklabels\":false},\"xaxis7\":{\"anchor\":\"y7\",\"domain\":[0.4346938775510204,0.4928571428571428],\"title\":{\"text\":\"learning_rate\"},\"type\":\"log\"},\"yaxis7\":{\"anchor\":\"x7\",\"domain\":[0.0,1.0],\"matches\":\"y\",\"showticklabels\":false},\"xaxis8\":{\"anchor\":\"y8\",\"domain\":[0.5071428571428571,0.5653061224489796],\"title\":{\"text\":\"n_layers\"}},\"yaxis8\":{\"anchor\":\"x8\",\"domain\":[0.0,1.0],\"matches\":\"y\",\"showticklabels\":false},\"xaxis9\":{\"anchor\":\"y9\",\"domain\":[0.5795918367346938,0.6377551020408163],\"title\":{\"text\":\"optimizer\"},\"type\":\"category\",\"categoryorder\":\"array\",\"categoryarray\":[\"adam\",\"sgd\"]},\"yaxis9\":{\"anchor\":\"x9\",\"domain\":[0.0,1.0],\"matches\":\"y\",\"showticklabels\":false},\"xaxis10\":{\"anchor\":\"y10\",\"domain\":[0.6520408163265305,0.710204081632653],\"title\":{\"text\":\"units_0\"}},\"yaxis10\":{\"anchor\":\"x10\",\"domain\":[0.0,1.0],\"matches\":\"y\",\"showticklabels\":false},\"xaxis11\":{\"anchor\":\"y11\",\"domain\":[0.7244897959183674,0.7826530612244899],\"title\":{\"text\":\"units_1\"}},\"yaxis11\":{\"anchor\":\"x11\",\"domain\":[0.0,1.0],\"matches\":\"y\",\"showticklabels\":false},\"xaxis12\":{\"anchor\":\"y12\",\"domain\":[0.7969387755102041,0.8551020408163266],\"title\":{\"text\":\"units_2\"}},\"yaxis12\":{\"anchor\":\"x12\",\"domain\":[0.0,1.0],\"matches\":\"y\",\"showticklabels\":false},\"xaxis13\":{\"anchor\":\"y13\",\"domain\":[0.8693877551020408,0.9275510204081633],\"title\":{\"text\":\"units_3\"}},\"yaxis13\":{\"anchor\":\"x13\",\"domain\":[0.0,1.0],\"matches\":\"y\",\"showticklabels\":false},\"xaxis14\":{\"anchor\":\"y14\",\"domain\":[0.9418367346938776,1.0],\"title\":{\"text\":\"units_4\"}},\"yaxis14\":{\"anchor\":\"x14\",\"domain\":[0.0,1.0],\"matches\":\"y\",\"showticklabels\":false},\"title\":{\"text\":\"Slice Plot\"},\"width\":4200},                        {\"responsive\": true}                    ).then(function(){\n",
              "                            \n",
              "var gd = document.getElementById('63fcf687-b319-44f2-ae48-aa63c318460e');\n",
              "var x = new MutationObserver(function (mutations, observer) {{\n",
              "        var display = window.getComputedStyle(gd).display;\n",
              "        if (!display || display === 'none') {{\n",
              "            console.log([gd, 'removed!']);\n",
              "            Plotly.purge(gd);\n",
              "            observer.disconnect();\n",
              "        }}\n",
              "}});\n",
              "\n",
              "// Listen for the removal of the full notebook cells\n",
              "var notebookContainer = gd.closest('#notebook-container');\n",
              "if (notebookContainer) {{\n",
              "    x.observe(notebookContainer, {childList: true});\n",
              "}}\n",
              "\n",
              "// Listen for the clearing of the current output cell\n",
              "var outputEl = gd.closest('.output');\n",
              "if (outputEl) {{\n",
              "    x.observe(outputEl, {childList: true});\n",
              "}}\n",
              "\n",
              "                        })                };                            </script>        </div>\n",
              "</body>\n",
              "</html>"
            ]
          },
          "metadata": {}
        }
      ]
    },
    {
      "cell_type": "code",
      "source": [
        "# 6. Valores Intermediários (se aplicável)\n",
        "plot_intermediate_values(study)"
      ],
      "metadata": {
        "colab": {
          "base_uri": "https://localhost:8080/",
          "height": 559
        },
        "id": "09Pwx2RkHvJ7",
        "outputId": "48cb5faa-d209-4307-ba5f-f415286f1335"
      },
      "execution_count": 91,
      "outputs": [
        {
          "output_type": "stream",
          "name": "stderr",
          "text": [
            "[W 2024-10-04 01:22:30,579] You need to set up the pruning feature to utilize `plot_intermediate_values()`\n"
          ]
        },
        {
          "output_type": "display_data",
          "data": {
            "text/html": [
              "<html>\n",
              "<head><meta charset=\"utf-8\" /></head>\n",
              "<body>\n",
              "    <div>            <script src=\"https://cdnjs.cloudflare.com/ajax/libs/mathjax/2.7.5/MathJax.js?config=TeX-AMS-MML_SVG\"></script><script type=\"text/javascript\">if (window.MathJax && window.MathJax.Hub && window.MathJax.Hub.Config) {window.MathJax.Hub.Config({SVG: {font: \"STIX-Web\"}});}</script>                <script type=\"text/javascript\">window.PlotlyConfig = {MathJaxConfig: 'local'};</script>\n",
              "        <script charset=\"utf-8\" src=\"https://cdn.plot.ly/plotly-2.35.2.min.js\"></script>                <div id=\"895fc830-5c81-48cb-9ba7-31771712e088\" class=\"plotly-graph-div\" style=\"height:525px; width:100%;\"></div>            <script type=\"text/javascript\">                                    window.PLOTLYENV=window.PLOTLYENV || {};                                    if (document.getElementById(\"895fc830-5c81-48cb-9ba7-31771712e088\")) {                    Plotly.newPlot(                        \"895fc830-5c81-48cb-9ba7-31771712e088\",                        [],                        {\"showlegend\":false,\"title\":{\"text\":\"Intermediate Values Plot\"},\"xaxis\":{\"title\":{\"text\":\"Step\"}},\"yaxis\":{\"title\":{\"text\":\"Intermediate Value\"}},\"template\":{\"data\":{\"histogram2dcontour\":[{\"type\":\"histogram2dcontour\",\"colorbar\":{\"outlinewidth\":0,\"ticks\":\"\"},\"colorscale\":[[0.0,\"#0d0887\"],[0.1111111111111111,\"#46039f\"],[0.2222222222222222,\"#7201a8\"],[0.3333333333333333,\"#9c179e\"],[0.4444444444444444,\"#bd3786\"],[0.5555555555555556,\"#d8576b\"],[0.6666666666666666,\"#ed7953\"],[0.7777777777777778,\"#fb9f3a\"],[0.8888888888888888,\"#fdca26\"],[1.0,\"#f0f921\"]]}],\"choropleth\":[{\"type\":\"choropleth\",\"colorbar\":{\"outlinewidth\":0,\"ticks\":\"\"}}],\"histogram2d\":[{\"type\":\"histogram2d\",\"colorbar\":{\"outlinewidth\":0,\"ticks\":\"\"},\"colorscale\":[[0.0,\"#0d0887\"],[0.1111111111111111,\"#46039f\"],[0.2222222222222222,\"#7201a8\"],[0.3333333333333333,\"#9c179e\"],[0.4444444444444444,\"#bd3786\"],[0.5555555555555556,\"#d8576b\"],[0.6666666666666666,\"#ed7953\"],[0.7777777777777778,\"#fb9f3a\"],[0.8888888888888888,\"#fdca26\"],[1.0,\"#f0f921\"]]}],\"heatmap\":[{\"type\":\"heatmap\",\"colorbar\":{\"outlinewidth\":0,\"ticks\":\"\"},\"colorscale\":[[0.0,\"#0d0887\"],[0.1111111111111111,\"#46039f\"],[0.2222222222222222,\"#7201a8\"],[0.3333333333333333,\"#9c179e\"],[0.4444444444444444,\"#bd3786\"],[0.5555555555555556,\"#d8576b\"],[0.6666666666666666,\"#ed7953\"],[0.7777777777777778,\"#fb9f3a\"],[0.8888888888888888,\"#fdca26\"],[1.0,\"#f0f921\"]]}],\"heatmapgl\":[{\"type\":\"heatmapgl\",\"colorbar\":{\"outlinewidth\":0,\"ticks\":\"\"},\"colorscale\":[[0.0,\"#0d0887\"],[0.1111111111111111,\"#46039f\"],[0.2222222222222222,\"#7201a8\"],[0.3333333333333333,\"#9c179e\"],[0.4444444444444444,\"#bd3786\"],[0.5555555555555556,\"#d8576b\"],[0.6666666666666666,\"#ed7953\"],[0.7777777777777778,\"#fb9f3a\"],[0.8888888888888888,\"#fdca26\"],[1.0,\"#f0f921\"]]}],\"contourcarpet\":[{\"type\":\"contourcarpet\",\"colorbar\":{\"outlinewidth\":0,\"ticks\":\"\"}}],\"contour\":[{\"type\":\"contour\",\"colorbar\":{\"outlinewidth\":0,\"ticks\":\"\"},\"colorscale\":[[0.0,\"#0d0887\"],[0.1111111111111111,\"#46039f\"],[0.2222222222222222,\"#7201a8\"],[0.3333333333333333,\"#9c179e\"],[0.4444444444444444,\"#bd3786\"],[0.5555555555555556,\"#d8576b\"],[0.6666666666666666,\"#ed7953\"],[0.7777777777777778,\"#fb9f3a\"],[0.8888888888888888,\"#fdca26\"],[1.0,\"#f0f921\"]]}],\"surface\":[{\"type\":\"surface\",\"colorbar\":{\"outlinewidth\":0,\"ticks\":\"\"},\"colorscale\":[[0.0,\"#0d0887\"],[0.1111111111111111,\"#46039f\"],[0.2222222222222222,\"#7201a8\"],[0.3333333333333333,\"#9c179e\"],[0.4444444444444444,\"#bd3786\"],[0.5555555555555556,\"#d8576b\"],[0.6666666666666666,\"#ed7953\"],[0.7777777777777778,\"#fb9f3a\"],[0.8888888888888888,\"#fdca26\"],[1.0,\"#f0f921\"]]}],\"mesh3d\":[{\"type\":\"mesh3d\",\"colorbar\":{\"outlinewidth\":0,\"ticks\":\"\"}}],\"scatter\":[{\"fillpattern\":{\"fillmode\":\"overlay\",\"size\":10,\"solidity\":0.2},\"type\":\"scatter\"}],\"parcoords\":[{\"type\":\"parcoords\",\"line\":{\"colorbar\":{\"outlinewidth\":0,\"ticks\":\"\"}}}],\"scatterpolargl\":[{\"type\":\"scatterpolargl\",\"marker\":{\"colorbar\":{\"outlinewidth\":0,\"ticks\":\"\"}}}],\"bar\":[{\"error_x\":{\"color\":\"#2a3f5f\"},\"error_y\":{\"color\":\"#2a3f5f\"},\"marker\":{\"line\":{\"color\":\"#E5ECF6\",\"width\":0.5},\"pattern\":{\"fillmode\":\"overlay\",\"size\":10,\"solidity\":0.2}},\"type\":\"bar\"}],\"scattergeo\":[{\"type\":\"scattergeo\",\"marker\":{\"colorbar\":{\"outlinewidth\":0,\"ticks\":\"\"}}}],\"scatterpolar\":[{\"type\":\"scatterpolar\",\"marker\":{\"colorbar\":{\"outlinewidth\":0,\"ticks\":\"\"}}}],\"histogram\":[{\"marker\":{\"pattern\":{\"fillmode\":\"overlay\",\"size\":10,\"solidity\":0.2}},\"type\":\"histogram\"}],\"scattergl\":[{\"type\":\"scattergl\",\"marker\":{\"colorbar\":{\"outlinewidth\":0,\"ticks\":\"\"}}}],\"scatter3d\":[{\"type\":\"scatter3d\",\"line\":{\"colorbar\":{\"outlinewidth\":0,\"ticks\":\"\"}},\"marker\":{\"colorbar\":{\"outlinewidth\":0,\"ticks\":\"\"}}}],\"scattermapbox\":[{\"type\":\"scattermapbox\",\"marker\":{\"colorbar\":{\"outlinewidth\":0,\"ticks\":\"\"}}}],\"scatterternary\":[{\"type\":\"scatterternary\",\"marker\":{\"colorbar\":{\"outlinewidth\":0,\"ticks\":\"\"}}}],\"scattercarpet\":[{\"type\":\"scattercarpet\",\"marker\":{\"colorbar\":{\"outlinewidth\":0,\"ticks\":\"\"}}}],\"carpet\":[{\"aaxis\":{\"endlinecolor\":\"#2a3f5f\",\"gridcolor\":\"white\",\"linecolor\":\"white\",\"minorgridcolor\":\"white\",\"startlinecolor\":\"#2a3f5f\"},\"baxis\":{\"endlinecolor\":\"#2a3f5f\",\"gridcolor\":\"white\",\"linecolor\":\"white\",\"minorgridcolor\":\"white\",\"startlinecolor\":\"#2a3f5f\"},\"type\":\"carpet\"}],\"table\":[{\"cells\":{\"fill\":{\"color\":\"#EBF0F8\"},\"line\":{\"color\":\"white\"}},\"header\":{\"fill\":{\"color\":\"#C8D4E3\"},\"line\":{\"color\":\"white\"}},\"type\":\"table\"}],\"barpolar\":[{\"marker\":{\"line\":{\"color\":\"#E5ECF6\",\"width\":0.5},\"pattern\":{\"fillmode\":\"overlay\",\"size\":10,\"solidity\":0.2}},\"type\":\"barpolar\"}],\"pie\":[{\"automargin\":true,\"type\":\"pie\"}]},\"layout\":{\"autotypenumbers\":\"strict\",\"colorway\":[\"#636efa\",\"#EF553B\",\"#00cc96\",\"#ab63fa\",\"#FFA15A\",\"#19d3f3\",\"#FF6692\",\"#B6E880\",\"#FF97FF\",\"#FECB52\"],\"font\":{\"color\":\"#2a3f5f\"},\"hovermode\":\"closest\",\"hoverlabel\":{\"align\":\"left\"},\"paper_bgcolor\":\"white\",\"plot_bgcolor\":\"#E5ECF6\",\"polar\":{\"bgcolor\":\"#E5ECF6\",\"angularaxis\":{\"gridcolor\":\"white\",\"linecolor\":\"white\",\"ticks\":\"\"},\"radialaxis\":{\"gridcolor\":\"white\",\"linecolor\":\"white\",\"ticks\":\"\"}},\"ternary\":{\"bgcolor\":\"#E5ECF6\",\"aaxis\":{\"gridcolor\":\"white\",\"linecolor\":\"white\",\"ticks\":\"\"},\"baxis\":{\"gridcolor\":\"white\",\"linecolor\":\"white\",\"ticks\":\"\"},\"caxis\":{\"gridcolor\":\"white\",\"linecolor\":\"white\",\"ticks\":\"\"}},\"coloraxis\":{\"colorbar\":{\"outlinewidth\":0,\"ticks\":\"\"}},\"colorscale\":{\"sequential\":[[0.0,\"#0d0887\"],[0.1111111111111111,\"#46039f\"],[0.2222222222222222,\"#7201a8\"],[0.3333333333333333,\"#9c179e\"],[0.4444444444444444,\"#bd3786\"],[0.5555555555555556,\"#d8576b\"],[0.6666666666666666,\"#ed7953\"],[0.7777777777777778,\"#fb9f3a\"],[0.8888888888888888,\"#fdca26\"],[1.0,\"#f0f921\"]],\"sequentialminus\":[[0.0,\"#0d0887\"],[0.1111111111111111,\"#46039f\"],[0.2222222222222222,\"#7201a8\"],[0.3333333333333333,\"#9c179e\"],[0.4444444444444444,\"#bd3786\"],[0.5555555555555556,\"#d8576b\"],[0.6666666666666666,\"#ed7953\"],[0.7777777777777778,\"#fb9f3a\"],[0.8888888888888888,\"#fdca26\"],[1.0,\"#f0f921\"]],\"diverging\":[[0,\"#8e0152\"],[0.1,\"#c51b7d\"],[0.2,\"#de77ae\"],[0.3,\"#f1b6da\"],[0.4,\"#fde0ef\"],[0.5,\"#f7f7f7\"],[0.6,\"#e6f5d0\"],[0.7,\"#b8e186\"],[0.8,\"#7fbc41\"],[0.9,\"#4d9221\"],[1,\"#276419\"]]},\"xaxis\":{\"gridcolor\":\"white\",\"linecolor\":\"white\",\"ticks\":\"\",\"title\":{\"standoff\":15},\"zerolinecolor\":\"white\",\"automargin\":true,\"zerolinewidth\":2},\"yaxis\":{\"gridcolor\":\"white\",\"linecolor\":\"white\",\"ticks\":\"\",\"title\":{\"standoff\":15},\"zerolinecolor\":\"white\",\"automargin\":true,\"zerolinewidth\":2},\"scene\":{\"xaxis\":{\"backgroundcolor\":\"#E5ECF6\",\"gridcolor\":\"white\",\"linecolor\":\"white\",\"showbackground\":true,\"ticks\":\"\",\"zerolinecolor\":\"white\",\"gridwidth\":2},\"yaxis\":{\"backgroundcolor\":\"#E5ECF6\",\"gridcolor\":\"white\",\"linecolor\":\"white\",\"showbackground\":true,\"ticks\":\"\",\"zerolinecolor\":\"white\",\"gridwidth\":2},\"zaxis\":{\"backgroundcolor\":\"#E5ECF6\",\"gridcolor\":\"white\",\"linecolor\":\"white\",\"showbackground\":true,\"ticks\":\"\",\"zerolinecolor\":\"white\",\"gridwidth\":2}},\"shapedefaults\":{\"line\":{\"color\":\"#2a3f5f\"}},\"annotationdefaults\":{\"arrowcolor\":\"#2a3f5f\",\"arrowhead\":0,\"arrowwidth\":1},\"geo\":{\"bgcolor\":\"white\",\"landcolor\":\"#E5ECF6\",\"subunitcolor\":\"white\",\"showland\":true,\"showlakes\":true,\"lakecolor\":\"white\"},\"title\":{\"x\":0.05},\"mapbox\":{\"style\":\"light\"}}}},                        {\"responsive\": true}                    ).then(function(){\n",
              "                            \n",
              "var gd = document.getElementById('895fc830-5c81-48cb-9ba7-31771712e088');\n",
              "var x = new MutationObserver(function (mutations, observer) {{\n",
              "        var display = window.getComputedStyle(gd).display;\n",
              "        if (!display || display === 'none') {{\n",
              "            console.log([gd, 'removed!']);\n",
              "            Plotly.purge(gd);\n",
              "            observer.disconnect();\n",
              "        }}\n",
              "}});\n",
              "\n",
              "// Listen for the removal of the full notebook cells\n",
              "var notebookContainer = gd.closest('#notebook-container');\n",
              "if (notebookContainer) {{\n",
              "    x.observe(notebookContainer, {childList: true});\n",
              "}}\n",
              "\n",
              "// Listen for the clearing of the current output cell\n",
              "var outputEl = gd.closest('.output');\n",
              "if (outputEl) {{\n",
              "    x.observe(outputEl, {childList: true});\n",
              "}}\n",
              "\n",
              "                        })                };                            </script>        </div>\n",
              "</body>\n",
              "</html>"
            ]
          },
          "metadata": {}
        }
      ]
    },
    {
      "cell_type": "code",
      "source": [],
      "metadata": {
        "id": "q2UlQqW6Hwz6"
      },
      "execution_count": null,
      "outputs": []
    }
  ],
  "metadata": {
    "accelerator": "GPU",
    "colab": {
      "provenance": []
    },
    "coursera": {
      "course_slug": "deep-neural-network",
      "graded_item_id": "SXQaI",
      "launcher_item_id": "UAwhh"
    },
    "kernelspec": {
      "display_name": "Python 3",
      "language": "python",
      "name": "python3"
    },
    "language_info": {
      "codemirror_mode": {
        "name": "ipython",
        "version": 3
      },
      "file_extension": ".py",
      "mimetype": "text/x-python",
      "name": "python",
      "nbconvert_exporter": "python",
      "pygments_lexer": "ipython3",
      "version": "3.7.4"
    }
  },
  "nbformat": 4,
  "nbformat_minor": 0
}